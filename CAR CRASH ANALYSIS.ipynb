{
 "cells": [
  {
   "cell_type": "code",
   "execution_count": 1,
   "id": "9eed3143",
   "metadata": {},
   "outputs": [],
   "source": [
    "import pandas as pd\n",
    "import numpy as np\n",
    "import matplotlib.pyplot as plt\n",
    "import seaborn as sns\n",
    "import warnings\n",
    "\n",
    "warnings.filterwarnings(\"ignore\")"
   ]
  },
  {
   "cell_type": "code",
   "execution_count": 2,
   "id": "2cfc872c",
   "metadata": {},
   "outputs": [
    {
     "data": {
      "text/html": [
       "<div>\n",
       "<style scoped>\n",
       "    .dataframe tbody tr th:only-of-type {\n",
       "        vertical-align: middle;\n",
       "    }\n",
       "\n",
       "    .dataframe tbody tr th {\n",
       "        vertical-align: top;\n",
       "    }\n",
       "\n",
       "    .dataframe thead th {\n",
       "        text-align: right;\n",
       "    }\n",
       "</style>\n",
       "<table border=\"1\" class=\"dataframe\">\n",
       "  <thead>\n",
       "    <tr style=\"text-align: right;\">\n",
       "      <th></th>\n",
       "      <th>Year</th>\n",
       "      <th>Month</th>\n",
       "      <th>Day</th>\n",
       "      <th>Weekend?</th>\n",
       "      <th>Hour</th>\n",
       "      <th>Collision Type</th>\n",
       "      <th>Injury Type</th>\n",
       "      <th>Primary Factor</th>\n",
       "      <th>Reported_Location</th>\n",
       "      <th>Latitude</th>\n",
       "      <th>Longitude</th>\n",
       "    </tr>\n",
       "  </thead>\n",
       "  <tbody>\n",
       "    <tr>\n",
       "      <th>0</th>\n",
       "      <td>2015</td>\n",
       "      <td>1</td>\n",
       "      <td>5</td>\n",
       "      <td>Weekday</td>\n",
       "      <td>0.0</td>\n",
       "      <td>2-Car</td>\n",
       "      <td>No injury/unknown</td>\n",
       "      <td>OTHER (DRIVER) - EXPLAIN IN NARRATIVE</td>\n",
       "      <td>1ST &amp; FESS</td>\n",
       "      <td>39.159207</td>\n",
       "      <td>-86.525874</td>\n",
       "    </tr>\n",
       "    <tr>\n",
       "      <th>1</th>\n",
       "      <td>2015</td>\n",
       "      <td>1</td>\n",
       "      <td>6</td>\n",
       "      <td>Weekday</td>\n",
       "      <td>1500.0</td>\n",
       "      <td>2-Car</td>\n",
       "      <td>No injury/unknown</td>\n",
       "      <td>FOLLOWING TOO CLOSELY</td>\n",
       "      <td>2ND &amp; COLLEGE</td>\n",
       "      <td>39.161440</td>\n",
       "      <td>-86.534848</td>\n",
       "    </tr>\n",
       "  </tbody>\n",
       "</table>\n",
       "</div>"
      ],
      "text/plain": [
       "   Year  Month  Day Weekend?    Hour Collision Type        Injury Type  \\\n",
       "0  2015      1    5  Weekday     0.0          2-Car  No injury/unknown   \n",
       "1  2015      1    6  Weekday  1500.0          2-Car  No injury/unknown   \n",
       "\n",
       "                          Primary Factor Reported_Location   Latitude  \\\n",
       "0  OTHER (DRIVER) - EXPLAIN IN NARRATIVE        1ST & FESS  39.159207   \n",
       "1                  FOLLOWING TOO CLOSELY     2ND & COLLEGE  39.161440   \n",
       "\n",
       "   Longitude  \n",
       "0 -86.525874  \n",
       "1 -86.534848  "
      ]
     },
     "execution_count": 2,
     "metadata": {},
     "output_type": "execute_result"
    }
   ],
   "source": [
    "car=pd.read_excel(\"new dataset.xlsx\")\n",
    "car.head(2)"
   ]
  },
  {
   "cell_type": "code",
   "execution_count": 3,
   "id": "07eb14fd",
   "metadata": {},
   "outputs": [
    {
     "data": {
      "text/plain": [
       "(53943, 11)"
      ]
     },
     "execution_count": 3,
     "metadata": {},
     "output_type": "execute_result"
    }
   ],
   "source": [
    "car.shape"
   ]
  },
  {
   "cell_type": "code",
   "execution_count": 4,
   "id": "4bb0f518",
   "metadata": {},
   "outputs": [
    {
     "data": {
      "text/plain": [
       "Year                   int64\n",
       "Month                  int64\n",
       "Day                    int64\n",
       "Weekend?              object\n",
       "Hour                 float64\n",
       "Collision Type        object\n",
       "Injury Type           object\n",
       "Primary Factor        object\n",
       "Reported_Location     object\n",
       "Latitude             float64\n",
       "Longitude            float64\n",
       "dtype: object"
      ]
     },
     "execution_count": 4,
     "metadata": {},
     "output_type": "execute_result"
    }
   ],
   "source": [
    "car.dtypes"
   ]
  },
  {
   "cell_type": "code",
   "execution_count": 5,
   "id": "09fbea9c",
   "metadata": {},
   "outputs": [
    {
     "name": "stdout",
     "output_type": "stream",
     "text": [
      "<class 'pandas.core.frame.DataFrame'>\n",
      "RangeIndex: 53943 entries, 0 to 53942\n",
      "Data columns (total 11 columns):\n",
      " #   Column             Non-Null Count  Dtype  \n",
      "---  ------             --------------  -----  \n",
      " 0   Year               53943 non-null  int64  \n",
      " 1   Month              53943 non-null  int64  \n",
      " 2   Day                53943 non-null  int64  \n",
      " 3   Weekend?           53875 non-null  object \n",
      " 4   Hour               53718 non-null  float64\n",
      " 5   Collision Type     53937 non-null  object \n",
      " 6   Injury Type        53943 non-null  object \n",
      " 7   Primary Factor     52822 non-null  object \n",
      " 8   Reported_Location  53908 non-null  object \n",
      " 9   Latitude           53913 non-null  float64\n",
      " 10  Longitude          53913 non-null  float64\n",
      "dtypes: float64(3), int64(3), object(5)\n",
      "memory usage: 4.5+ MB\n"
     ]
    }
   ],
   "source": [
    "car.info()"
   ]
  },
  {
   "cell_type": "code",
   "execution_count": 6,
   "id": "940c3483",
   "metadata": {},
   "outputs": [
    {
     "data": {
      "text/plain": [
       "64"
      ]
     },
     "execution_count": 6,
     "metadata": {},
     "output_type": "execute_result"
    }
   ],
   "source": [
    "car.duplicated().sum()"
   ]
  },
  {
   "cell_type": "code",
   "execution_count": 7,
   "id": "7adceaa2",
   "metadata": {},
   "outputs": [],
   "source": [
    "car.drop_duplicates(inplace=True)"
   ]
  },
  {
   "cell_type": "code",
   "execution_count": 8,
   "id": "825b6ec9",
   "metadata": {},
   "outputs": [
    {
     "data": {
      "text/plain": [
       "Year                    0\n",
       "Month                   0\n",
       "Day                     0\n",
       "Weekend?               68\n",
       "Hour                  225\n",
       "Collision Type          6\n",
       "Injury Type             0\n",
       "Primary Factor       1119\n",
       "Reported_Location      35\n",
       "Latitude               30\n",
       "Longitude              30\n",
       "dtype: int64"
      ]
     },
     "execution_count": 8,
     "metadata": {},
     "output_type": "execute_result"
    }
   ],
   "source": [
    "car.isna().sum()"
   ]
  },
  {
   "cell_type": "code",
   "execution_count": 9,
   "id": "fa5558e2",
   "metadata": {},
   "outputs": [
    {
     "data": {
      "text/plain": [
       "array(['OTHER (DRIVER) - EXPLAIN IN NARRATIVE', 'FOLLOWING TOO CLOSELY',\n",
       "       'DISREGARD SIGNAL/REG SIGN', 'FAILURE TO YIELD RIGHT OF WAY',\n",
       "       'DRIVER DISTRACTED - EXPLAIN IN NARRATIVE',\n",
       "       'ENGINE FAILURE OR DEFECTIVE', 'RAN OFF ROAD RIGHT',\n",
       "       'UNSAFE BACKING', 'ROADWAY SURFACE CONDITION', nan,\n",
       "       'SPEED TOO FAST FOR WEATHER CONDITIONS',\n",
       "       'ANIMAL/OBJECT IN ROADWAY', 'PEDESTRIAN ACTION',\n",
       "       'IMPROPER TURNING', 'UNSAFE LANE MOVEMENT', 'LEFT OF CENTER',\n",
       "       'IMPROPER LANE USAGE', 'OVERCORRECTING/OVERSTEERING',\n",
       "       'BRAKE FAILURE OR DEFECTIVE', 'UNSAFE SPEED',\n",
       "       'DRIVER ASLEEP OR FATIGUED', 'VIEW OBSTRUCTED', 'DRIVER ILLNESS',\n",
       "       'IMPROPER PASSING', 'OTHER (VEHICLE) - EXPLAIN IN NARRATIVE',\n",
       "       'OTHER (ENVIRONMENTAL) - EXPLAIN IN NARR', 'WRONG WAY ON ONE WAY',\n",
       "       'ACCELERATOR FAILURE OR DEFECTIVE', 'INSECURE/LEAKY LOAD',\n",
       "       'CELL PHONE USAGE', 'TIRE FAILURE OR DEFECTIVE',\n",
       "       'OTHER TELEMATICS IN USE', 'HEADLIGHT DEFECTIVE OR NOT ON',\n",
       "       'OTHER LIGHTS DEFECTIVE', 'TOW HITCH FAILURE', 'STEERING FAILURE',\n",
       "       'OBSTRUCTION NOT MARKED', 'OVERSIZE/OVERWEIGHT LOAD',\n",
       "       'HOLES/RUTS IN SURFACE',\n",
       "       'TRAFFIC CONTROL INOPERATIVE/MISSING/OBSC', 'SEVERE CROSSWINDS',\n",
       "       'LANE MARKING OBSCURED', 'NONE (DRIVER)', 'GLARE',\n",
       "       'ALCOHOLIC BEVERAGES', 'PRESCRIPTION DRUGS',\n",
       "       'ROAD UNDER CONSTRUCTION', 'NONE (VEHICLE)',\n",
       "       'PASSENGER DISTRACTION', 'ILLEGAL DRUGS', 'JACKKNIFING',\n",
       "       'UTILITY WORK', 'RAN OFF ROAD LEFT', 'SHOULDER DEFECTIVE',\n",
       "       'NONE (ENVIRONMENTAL)', 'VIOLATION OF LICENSE RESTRICTION'],\n",
       "      dtype=object)"
      ]
     },
     "execution_count": 9,
     "metadata": {},
     "output_type": "execute_result"
    }
   ],
   "source": [
    "car[\"Primary Factor\"].unique()"
   ]
  },
  {
   "cell_type": "code",
   "execution_count": 10,
   "id": "d4222178",
   "metadata": {},
   "outputs": [
    {
     "data": {
      "text/plain": [
       "FAILURE TO YIELD RIGHT OF WAY               11186\n",
       "FOLLOWING TOO CLOSELY                        7350\n",
       "OTHER (DRIVER) - EXPLAIN IN NARRATIVE        6152\n",
       "UNSAFE BACKING                               5183\n",
       "RAN OFF ROAD RIGHT                           2922\n",
       "DISREGARD SIGNAL/REG SIGN                    2206\n",
       "SPEED TOO FAST FOR WEATHER CONDITIONS        1911\n",
       "IMPROPER TURNING                             1843\n",
       "ANIMAL/OBJECT IN ROADWAY                     1684\n",
       "DRIVER DISTRACTED - EXPLAIN IN NARRATIVE     1656\n",
       "UNSAFE SPEED                                 1498\n",
       "ROADWAY SURFACE CONDITION                    1259\n",
       "LEFT OF CENTER                               1077\n",
       "IMPROPER LANE USAGE                           985\n",
       "ALCOHOLIC BEVERAGES                           804\n",
       "UNSAFE LANE MOVEMENT                          756\n",
       "OVERCORRECTING/OVERSTEERING                   597\n",
       "IMPROPER PASSING                              495\n",
       "OTHER (VEHICLE) - EXPLAIN IN NARRATIVE        472\n",
       "OTHER (ENVIRONMENTAL) - EXPLAIN IN NARR       417\n",
       "BRAKE FAILURE OR DEFECTIVE                    361\n",
       "PEDESTRIAN ACTION                             292\n",
       "DRIVER ASLEEP OR FATIGUED                     267\n",
       "DRIVER ILLNESS                                181\n",
       "VIEW OBSTRUCTED                               175\n",
       "CELL PHONE USAGE                              141\n",
       "NONE (DRIVER)                                 116\n",
       "WRONG WAY ON ONE WAY                          103\n",
       "TIRE FAILURE OR DEFECTIVE                      84\n",
       "RAN OFF ROAD LEFT                              59\n",
       "PRESCRIPTION DRUGS                             58\n",
       "GLARE                                          53\n",
       "ACCELERATOR FAILURE OR DEFECTIVE               50\n",
       "INSECURE/LEAKY LOAD                            46\n",
       "OBSTRUCTION NOT MARKED                         37\n",
       "STEERING FAILURE                               31\n",
       "PASSENGER DISTRACTION                          31\n",
       "ILLEGAL DRUGS                                  29\n",
       "OTHER TELEMATICS IN USE                        28\n",
       "OVERSIZE/OVERWEIGHT LOAD                       26\n",
       "ENGINE FAILURE OR DEFECTIVE                    25\n",
       "HEADLIGHT DEFECTIVE OR NOT ON                  20\n",
       "HOLES/RUTS IN SURFACE                          15\n",
       "TRAFFIC CONTROL INOPERATIVE/MISSING/OBSC       12\n",
       "NONE (ENVIRONMENTAL)                           12\n",
       "NONE (VEHICLE)                                 11\n",
       "OTHER LIGHTS DEFECTIVE                         10\n",
       "TOW HITCH FAILURE                               8\n",
       "ROAD UNDER CONSTRUCTION                         7\n",
       "JACKKNIFING                                     6\n",
       "SEVERE CROSSWINDS                               4\n",
       "LANE MARKING OBSCURED                           3\n",
       "VIOLATION OF LICENSE RESTRICTION                3\n",
       "SHOULDER DEFECTIVE                              2\n",
       "UTILITY WORK                                    1\n",
       "Name: Primary Factor, dtype: int64"
      ]
     },
     "execution_count": 10,
     "metadata": {},
     "output_type": "execute_result"
    }
   ],
   "source": [
    "car[\"Primary Factor\"].value_counts()"
   ]
  },
  {
   "cell_type": "code",
   "execution_count": 11,
   "id": "1af621bf",
   "metadata": {},
   "outputs": [
    {
     "data": {
      "text/plain": [
       "Weekday    40557\n",
       "Weekend    13254\n",
       "Name: Weekend?, dtype: int64"
      ]
     },
     "execution_count": 11,
     "metadata": {},
     "output_type": "execute_result"
    }
   ],
   "source": [
    "car[\"Weekend?\"].value_counts()"
   ]
  },
  {
   "cell_type": "code",
   "execution_count": 12,
   "id": "b796bc12",
   "metadata": {},
   "outputs": [],
   "source": [
    "car1=car.copy()"
   ]
  },
  {
   "cell_type": "markdown",
   "id": "afb169a7",
   "metadata": {},
   "source": [
    "\n",
    "\n",
    "\n",
    "\n",
    "### Treating null values"
   ]
  },
  {
   "cell_type": "code",
   "execution_count": 13,
   "id": "1ca180f4",
   "metadata": {},
   "outputs": [],
   "source": [
    "car[\"Weekend?\"].fillna(car[\"Weekend?\"].mode()[0],inplace=True)"
   ]
  },
  {
   "cell_type": "code",
   "execution_count": 14,
   "id": "3083292c",
   "metadata": {},
   "outputs": [
    {
     "data": {
      "text/plain": [
       "Year                    0\n",
       "Month                   0\n",
       "Day                     0\n",
       "Weekend?                0\n",
       "Hour                  225\n",
       "Collision Type          6\n",
       "Injury Type             0\n",
       "Primary Factor       1119\n",
       "Reported_Location      35\n",
       "Latitude               30\n",
       "Longitude              30\n",
       "dtype: int64"
      ]
     },
     "execution_count": 14,
     "metadata": {},
     "output_type": "execute_result"
    }
   ],
   "source": [
    "car.isna().sum()"
   ]
  },
  {
   "cell_type": "code",
   "execution_count": 15,
   "id": "fe7138ed",
   "metadata": {},
   "outputs": [],
   "source": [
    "car[\"Primary Factor\"].fillna(car[\"Primary Factor\"].mode()[0],inplace=True)"
   ]
  },
  {
   "cell_type": "code",
   "execution_count": 16,
   "id": "d2066836",
   "metadata": {},
   "outputs": [],
   "source": [
    "car[\"Hour\"].fillna(car[\"Hour\"].mean(),inplace=True)"
   ]
  },
  {
   "cell_type": "code",
   "execution_count": 17,
   "id": "77a5135f",
   "metadata": {},
   "outputs": [
    {
     "data": {
      "text/plain": [
       "2-Car               37565\n",
       "1-Car               10225\n",
       "3+ Cars              3150\n",
       "Moped/Motorcycle     1007\n",
       "Bus                   849\n",
       "Pedestrian            609\n",
       "Cyclist               468\n",
       "Name: Collision Type, dtype: int64"
      ]
     },
     "execution_count": 17,
     "metadata": {},
     "output_type": "execute_result"
    }
   ],
   "source": [
    "car[\"Collision Type\"].value_counts()"
   ]
  },
  {
   "cell_type": "code",
   "execution_count": 18,
   "id": "63524d75",
   "metadata": {},
   "outputs": [],
   "source": [
    "car.dropna(inplace=True)"
   ]
  },
  {
   "cell_type": "code",
   "execution_count": 19,
   "id": "38eb3079",
   "metadata": {},
   "outputs": [
    {
     "data": {
      "text/plain": [
       "(53808, 11)"
      ]
     },
     "execution_count": 19,
     "metadata": {},
     "output_type": "execute_result"
    }
   ],
   "source": [
    "car.shape"
   ]
  },
  {
   "cell_type": "code",
   "execution_count": 20,
   "id": "d74395cd",
   "metadata": {},
   "outputs": [],
   "source": [
    "car1=car.copy()"
   ]
  },
  {
   "cell_type": "code",
   "execution_count": 21,
   "id": "5301a848",
   "metadata": {},
   "outputs": [
    {
     "data": {
      "text/html": [
       "<div>\n",
       "<style scoped>\n",
       "    .dataframe tbody tr th:only-of-type {\n",
       "        vertical-align: middle;\n",
       "    }\n",
       "\n",
       "    .dataframe tbody tr th {\n",
       "        vertical-align: top;\n",
       "    }\n",
       "\n",
       "    .dataframe thead th {\n",
       "        text-align: right;\n",
       "    }\n",
       "</style>\n",
       "<table border=\"1\" class=\"dataframe\">\n",
       "  <thead>\n",
       "    <tr style=\"text-align: right;\">\n",
       "      <th></th>\n",
       "      <th>Year</th>\n",
       "      <th>Month</th>\n",
       "      <th>Day</th>\n",
       "      <th>Hour</th>\n",
       "      <th>Latitude</th>\n",
       "      <th>Longitude</th>\n",
       "    </tr>\n",
       "  </thead>\n",
       "  <tbody>\n",
       "    <tr>\n",
       "      <th>Year</th>\n",
       "      <td>1.000000</td>\n",
       "      <td>-0.000244</td>\n",
       "      <td>-0.006340</td>\n",
       "      <td>-0.020187</td>\n",
       "      <td>0.066809</td>\n",
       "      <td>-0.066682</td>\n",
       "    </tr>\n",
       "    <tr>\n",
       "      <th>Month</th>\n",
       "      <td>-0.000244</td>\n",
       "      <td>1.000000</td>\n",
       "      <td>-0.010168</td>\n",
       "      <td>0.013175</td>\n",
       "      <td>-0.015962</td>\n",
       "      <td>0.016069</td>\n",
       "    </tr>\n",
       "    <tr>\n",
       "      <th>Day</th>\n",
       "      <td>-0.006340</td>\n",
       "      <td>-0.010168</td>\n",
       "      <td>1.000000</td>\n",
       "      <td>0.008028</td>\n",
       "      <td>0.004265</td>\n",
       "      <td>-0.004392</td>\n",
       "    </tr>\n",
       "    <tr>\n",
       "      <th>Hour</th>\n",
       "      <td>-0.020187</td>\n",
       "      <td>0.013175</td>\n",
       "      <td>0.008028</td>\n",
       "      <td>1.000000</td>\n",
       "      <td>0.006348</td>\n",
       "      <td>-0.006335</td>\n",
       "    </tr>\n",
       "    <tr>\n",
       "      <th>Latitude</th>\n",
       "      <td>0.066809</td>\n",
       "      <td>-0.015962</td>\n",
       "      <td>0.004265</td>\n",
       "      <td>0.006348</td>\n",
       "      <td>1.000000</td>\n",
       "      <td>-0.999404</td>\n",
       "    </tr>\n",
       "    <tr>\n",
       "      <th>Longitude</th>\n",
       "      <td>-0.066682</td>\n",
       "      <td>0.016069</td>\n",
       "      <td>-0.004392</td>\n",
       "      <td>-0.006335</td>\n",
       "      <td>-0.999404</td>\n",
       "      <td>1.000000</td>\n",
       "    </tr>\n",
       "  </tbody>\n",
       "</table>\n",
       "</div>"
      ],
      "text/plain": [
       "               Year     Month       Day      Hour  Latitude  Longitude\n",
       "Year       1.000000 -0.000244 -0.006340 -0.020187  0.066809  -0.066682\n",
       "Month     -0.000244  1.000000 -0.010168  0.013175 -0.015962   0.016069\n",
       "Day       -0.006340 -0.010168  1.000000  0.008028  0.004265  -0.004392\n",
       "Hour      -0.020187  0.013175  0.008028  1.000000  0.006348  -0.006335\n",
       "Latitude   0.066809 -0.015962  0.004265  0.006348  1.000000  -0.999404\n",
       "Longitude -0.066682  0.016069 -0.004392 -0.006335 -0.999404   1.000000"
      ]
     },
     "execution_count": 21,
     "metadata": {},
     "output_type": "execute_result"
    }
   ],
   "source": [
    "car.corr()"
   ]
  },
  {
   "cell_type": "code",
   "execution_count": 22,
   "id": "7c013455",
   "metadata": {},
   "outputs": [
    {
     "data": {
      "text/plain": [
       "<Axes: >"
      ]
     },
     "execution_count": 22,
     "metadata": {},
     "output_type": "execute_result"
    },
    {
     "data": {
      "image/png": "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\n",
      "text/plain": [
       "<Figure size 640x480 with 2 Axes>"
      ]
     },
     "metadata": {},
     "output_type": "display_data"
    }
   ],
   "source": [
    "sns.heatmap(car.corr(),annot=True,cmap=\"Blues\")"
   ]
  },
  {
   "cell_type": "markdown",
   "id": "21018fad",
   "metadata": {},
   "source": [
    "- latitude and longitude is showing high -ve correlation to each other"
   ]
  },
  {
   "cell_type": "code",
   "execution_count": 23,
   "id": "c1c710f8",
   "metadata": {},
   "outputs": [
    {
     "data": {
      "text/html": [
       "<div>\n",
       "<style scoped>\n",
       "    .dataframe tbody tr th:only-of-type {\n",
       "        vertical-align: middle;\n",
       "    }\n",
       "\n",
       "    .dataframe tbody tr th {\n",
       "        vertical-align: top;\n",
       "    }\n",
       "\n",
       "    .dataframe thead th {\n",
       "        text-align: right;\n",
       "    }\n",
       "</style>\n",
       "<table border=\"1\" class=\"dataframe\">\n",
       "  <thead>\n",
       "    <tr style=\"text-align: right;\">\n",
       "      <th></th>\n",
       "      <th>count</th>\n",
       "      <th>unique</th>\n",
       "      <th>top</th>\n",
       "      <th>freq</th>\n",
       "      <th>mean</th>\n",
       "      <th>std</th>\n",
       "      <th>min</th>\n",
       "      <th>25%</th>\n",
       "      <th>50%</th>\n",
       "      <th>75%</th>\n",
       "      <th>max</th>\n",
       "    </tr>\n",
       "  </thead>\n",
       "  <tbody>\n",
       "    <tr>\n",
       "      <th>Year</th>\n",
       "      <td>53808.0</td>\n",
       "      <td>NaN</td>\n",
       "      <td>NaN</td>\n",
       "      <td>NaN</td>\n",
       "      <td>2008.966566</td>\n",
       "      <td>3.787507</td>\n",
       "      <td>2003.0</td>\n",
       "      <td>2006.0</td>\n",
       "      <td>2009.0</td>\n",
       "      <td>2012.0</td>\n",
       "      <td>2015.0</td>\n",
       "    </tr>\n",
       "    <tr>\n",
       "      <th>Month</th>\n",
       "      <td>53808.0</td>\n",
       "      <td>NaN</td>\n",
       "      <td>NaN</td>\n",
       "      <td>NaN</td>\n",
       "      <td>6.660887</td>\n",
       "      <td>3.514729</td>\n",
       "      <td>1.0</td>\n",
       "      <td>4.0</td>\n",
       "      <td>7.0</td>\n",
       "      <td>10.0</td>\n",
       "      <td>12.0</td>\n",
       "    </tr>\n",
       "    <tr>\n",
       "      <th>Day</th>\n",
       "      <td>53808.0</td>\n",
       "      <td>NaN</td>\n",
       "      <td>NaN</td>\n",
       "      <td>NaN</td>\n",
       "      <td>4.197201</td>\n",
       "      <td>1.909393</td>\n",
       "      <td>1.0</td>\n",
       "      <td>3.0</td>\n",
       "      <td>4.0</td>\n",
       "      <td>6.0</td>\n",
       "      <td>7.0</td>\n",
       "    </tr>\n",
       "    <tr>\n",
       "      <th>Weekend?</th>\n",
       "      <td>53808</td>\n",
       "      <td>2</td>\n",
       "      <td>Weekday</td>\n",
       "      <td>40569</td>\n",
       "      <td>NaN</td>\n",
       "      <td>NaN</td>\n",
       "      <td>NaN</td>\n",
       "      <td>NaN</td>\n",
       "      <td>NaN</td>\n",
       "      <td>NaN</td>\n",
       "      <td>NaN</td>\n",
       "    </tr>\n",
       "    <tr>\n",
       "      <th>Hour</th>\n",
       "      <td>53808.0</td>\n",
       "      <td>NaN</td>\n",
       "      <td>NaN</td>\n",
       "      <td>NaN</td>\n",
       "      <td>1347.459763</td>\n",
       "      <td>530.439248</td>\n",
       "      <td>0.0</td>\n",
       "      <td>1000.0</td>\n",
       "      <td>1400.0</td>\n",
       "      <td>1700.0</td>\n",
       "      <td>2300.0</td>\n",
       "    </tr>\n",
       "    <tr>\n",
       "      <th>Collision Type</th>\n",
       "      <td>53808</td>\n",
       "      <td>7</td>\n",
       "      <td>2-Car</td>\n",
       "      <td>37508</td>\n",
       "      <td>NaN</td>\n",
       "      <td>NaN</td>\n",
       "      <td>NaN</td>\n",
       "      <td>NaN</td>\n",
       "      <td>NaN</td>\n",
       "      <td>NaN</td>\n",
       "      <td>NaN</td>\n",
       "    </tr>\n",
       "    <tr>\n",
       "      <th>Injury Type</th>\n",
       "      <td>53808</td>\n",
       "      <td>4</td>\n",
       "      <td>No injury/unknown</td>\n",
       "      <td>41485</td>\n",
       "      <td>NaN</td>\n",
       "      <td>NaN</td>\n",
       "      <td>NaN</td>\n",
       "      <td>NaN</td>\n",
       "      <td>NaN</td>\n",
       "      <td>NaN</td>\n",
       "      <td>NaN</td>\n",
       "    </tr>\n",
       "    <tr>\n",
       "      <th>Primary Factor</th>\n",
       "      <td>53808</td>\n",
       "      <td>55</td>\n",
       "      <td>FAILURE TO YIELD RIGHT OF WAY</td>\n",
       "      <td>12286</td>\n",
       "      <td>NaN</td>\n",
       "      <td>NaN</td>\n",
       "      <td>NaN</td>\n",
       "      <td>NaN</td>\n",
       "      <td>NaN</td>\n",
       "      <td>NaN</td>\n",
       "      <td>NaN</td>\n",
       "    </tr>\n",
       "    <tr>\n",
       "      <th>Reported_Location</th>\n",
       "      <td>53808</td>\n",
       "      <td>19355</td>\n",
       "      <td>E 3RD ST</td>\n",
       "      <td>374</td>\n",
       "      <td>NaN</td>\n",
       "      <td>NaN</td>\n",
       "      <td>NaN</td>\n",
       "      <td>NaN</td>\n",
       "      <td>NaN</td>\n",
       "      <td>NaN</td>\n",
       "      <td>NaN</td>\n",
       "    </tr>\n",
       "    <tr>\n",
       "      <th>Latitude</th>\n",
       "      <td>53808.0</td>\n",
       "      <td>NaN</td>\n",
       "      <td>NaN</td>\n",
       "      <td>NaN</td>\n",
       "      <td>35.602035</td>\n",
       "      <td>11.261566</td>\n",
       "      <td>0.0</td>\n",
       "      <td>39.142048</td>\n",
       "      <td>39.164436</td>\n",
       "      <td>39.173344</td>\n",
       "      <td>41.228665</td>\n",
       "    </tr>\n",
       "    <tr>\n",
       "      <th>Longitude</th>\n",
       "      <td>53808.0</td>\n",
       "      <td>NaN</td>\n",
       "      <td>NaN</td>\n",
       "      <td>NaN</td>\n",
       "      <td>-78.66328</td>\n",
       "      <td>24.895083</td>\n",
       "      <td>-88.959213</td>\n",
       "      <td>-86.551533</td>\n",
       "      <td>-86.530992</td>\n",
       "      <td>-86.508288</td>\n",
       "      <td>86.596363</td>\n",
       "    </tr>\n",
       "  </tbody>\n",
       "</table>\n",
       "</div>"
      ],
      "text/plain": [
       "                     count unique                            top   freq  \\\n",
       "Year               53808.0    NaN                            NaN    NaN   \n",
       "Month              53808.0    NaN                            NaN    NaN   \n",
       "Day                53808.0    NaN                            NaN    NaN   \n",
       "Weekend?             53808      2                        Weekday  40569   \n",
       "Hour               53808.0    NaN                            NaN    NaN   \n",
       "Collision Type       53808      7                          2-Car  37508   \n",
       "Injury Type          53808      4              No injury/unknown  41485   \n",
       "Primary Factor       53808     55  FAILURE TO YIELD RIGHT OF WAY  12286   \n",
       "Reported_Location    53808  19355                       E 3RD ST    374   \n",
       "Latitude           53808.0    NaN                            NaN    NaN   \n",
       "Longitude          53808.0    NaN                            NaN    NaN   \n",
       "\n",
       "                          mean         std        min        25%        50%  \\\n",
       "Year               2008.966566    3.787507     2003.0     2006.0     2009.0   \n",
       "Month                 6.660887    3.514729        1.0        4.0        7.0   \n",
       "Day                   4.197201    1.909393        1.0        3.0        4.0   \n",
       "Weekend?                   NaN         NaN        NaN        NaN        NaN   \n",
       "Hour               1347.459763  530.439248        0.0     1000.0     1400.0   \n",
       "Collision Type             NaN         NaN        NaN        NaN        NaN   \n",
       "Injury Type                NaN         NaN        NaN        NaN        NaN   \n",
       "Primary Factor             NaN         NaN        NaN        NaN        NaN   \n",
       "Reported_Location          NaN         NaN        NaN        NaN        NaN   \n",
       "Latitude             35.602035   11.261566        0.0  39.142048  39.164436   \n",
       "Longitude            -78.66328   24.895083 -88.959213 -86.551533 -86.530992   \n",
       "\n",
       "                         75%        max  \n",
       "Year                  2012.0     2015.0  \n",
       "Month                   10.0       12.0  \n",
       "Day                      6.0        7.0  \n",
       "Weekend?                 NaN        NaN  \n",
       "Hour                  1700.0     2300.0  \n",
       "Collision Type           NaN        NaN  \n",
       "Injury Type              NaN        NaN  \n",
       "Primary Factor           NaN        NaN  \n",
       "Reported_Location        NaN        NaN  \n",
       "Latitude           39.173344  41.228665  \n",
       "Longitude         -86.508288  86.596363  "
      ]
     },
     "execution_count": 23,
     "metadata": {},
     "output_type": "execute_result"
    }
   ],
   "source": [
    "car.describe(include=\"all\").T"
   ]
  },
  {
   "cell_type": "markdown",
   "id": "15dff232",
   "metadata": {},
   "source": [
    "- from the above table its almost clear that the chances for outliers are less\n",
    "- more number of accidents must have occured in the year 2012\n",
    "- more number of accidents occured month will be october\n",
    "- weekdays are having most number of crashes\n",
    "- collision type is having more numbers with a crash of two cars\n",
    "- primary factor is the failure to yield the right way\n"
   ]
  },
  {
   "cell_type": "code",
   "execution_count": 24,
   "id": "08a0da50",
   "metadata": {},
   "outputs": [
    {
     "data": {
      "text/html": [
       "<div>\n",
       "<style scoped>\n",
       "    .dataframe tbody tr th:only-of-type {\n",
       "        vertical-align: middle;\n",
       "    }\n",
       "\n",
       "    .dataframe tbody tr th {\n",
       "        vertical-align: top;\n",
       "    }\n",
       "\n",
       "    .dataframe thead th {\n",
       "        text-align: right;\n",
       "    }\n",
       "</style>\n",
       "<table border=\"1\" class=\"dataframe\">\n",
       "  <thead>\n",
       "    <tr style=\"text-align: right;\">\n",
       "      <th></th>\n",
       "      <th>Year</th>\n",
       "      <th>Month</th>\n",
       "      <th>Day</th>\n",
       "      <th>Weekend?</th>\n",
       "      <th>Hour</th>\n",
       "      <th>Collision Type</th>\n",
       "      <th>Injury Type</th>\n",
       "      <th>Primary Factor</th>\n",
       "      <th>Reported_Location</th>\n",
       "      <th>Latitude</th>\n",
       "      <th>Longitude</th>\n",
       "    </tr>\n",
       "  </thead>\n",
       "  <tbody>\n",
       "    <tr>\n",
       "      <th>0</th>\n",
       "      <td>2015</td>\n",
       "      <td>1</td>\n",
       "      <td>5</td>\n",
       "      <td>Weekday</td>\n",
       "      <td>0.0</td>\n",
       "      <td>2-Car</td>\n",
       "      <td>No injury/unknown</td>\n",
       "      <td>OTHER (DRIVER) - EXPLAIN IN NARRATIVE</td>\n",
       "      <td>1ST &amp; FESS</td>\n",
       "      <td>39.159207</td>\n",
       "      <td>-86.525874</td>\n",
       "    </tr>\n",
       "    <tr>\n",
       "      <th>1</th>\n",
       "      <td>2015</td>\n",
       "      <td>1</td>\n",
       "      <td>6</td>\n",
       "      <td>Weekday</td>\n",
       "      <td>1500.0</td>\n",
       "      <td>2-Car</td>\n",
       "      <td>No injury/unknown</td>\n",
       "      <td>FOLLOWING TOO CLOSELY</td>\n",
       "      <td>2ND &amp; COLLEGE</td>\n",
       "      <td>39.161440</td>\n",
       "      <td>-86.534848</td>\n",
       "    </tr>\n",
       "    <tr>\n",
       "      <th>2</th>\n",
       "      <td>2015</td>\n",
       "      <td>1</td>\n",
       "      <td>6</td>\n",
       "      <td>Weekend</td>\n",
       "      <td>2300.0</td>\n",
       "      <td>2-Car</td>\n",
       "      <td>Non-incapacitating</td>\n",
       "      <td>DISREGARD SIGNAL/REG SIGN</td>\n",
       "      <td>BASSWOOD &amp; BLOOMFIELD</td>\n",
       "      <td>39.149780</td>\n",
       "      <td>-86.568890</td>\n",
       "    </tr>\n",
       "    <tr>\n",
       "      <th>3</th>\n",
       "      <td>2015</td>\n",
       "      <td>1</td>\n",
       "      <td>7</td>\n",
       "      <td>Weekend</td>\n",
       "      <td>900.0</td>\n",
       "      <td>2-Car</td>\n",
       "      <td>Non-incapacitating</td>\n",
       "      <td>FAILURE TO YIELD RIGHT OF WAY</td>\n",
       "      <td>GATES &amp; JACOBS</td>\n",
       "      <td>39.165655</td>\n",
       "      <td>-86.575956</td>\n",
       "    </tr>\n",
       "    <tr>\n",
       "      <th>4</th>\n",
       "      <td>2015</td>\n",
       "      <td>1</td>\n",
       "      <td>7</td>\n",
       "      <td>Weekend</td>\n",
       "      <td>1100.0</td>\n",
       "      <td>2-Car</td>\n",
       "      <td>No injury/unknown</td>\n",
       "      <td>FAILURE TO YIELD RIGHT OF WAY</td>\n",
       "      <td>W 3RD</td>\n",
       "      <td>39.164848</td>\n",
       "      <td>-86.579625</td>\n",
       "    </tr>\n",
       "  </tbody>\n",
       "</table>\n",
       "</div>"
      ],
      "text/plain": [
       "   Year  Month  Day Weekend?    Hour Collision Type         Injury Type  \\\n",
       "0  2015      1    5  Weekday     0.0          2-Car   No injury/unknown   \n",
       "1  2015      1    6  Weekday  1500.0          2-Car   No injury/unknown   \n",
       "2  2015      1    6  Weekend  2300.0          2-Car  Non-incapacitating   \n",
       "3  2015      1    7  Weekend   900.0          2-Car  Non-incapacitating   \n",
       "4  2015      1    7  Weekend  1100.0          2-Car   No injury/unknown   \n",
       "\n",
       "                          Primary Factor      Reported_Location   Latitude  \\\n",
       "0  OTHER (DRIVER) - EXPLAIN IN NARRATIVE             1ST & FESS  39.159207   \n",
       "1                  FOLLOWING TOO CLOSELY          2ND & COLLEGE  39.161440   \n",
       "2              DISREGARD SIGNAL/REG SIGN  BASSWOOD & BLOOMFIELD  39.149780   \n",
       "3          FAILURE TO YIELD RIGHT OF WAY         GATES & JACOBS  39.165655   \n",
       "4          FAILURE TO YIELD RIGHT OF WAY                  W 3RD  39.164848   \n",
       "\n",
       "   Longitude  \n",
       "0 -86.525874  \n",
       "1 -86.534848  \n",
       "2 -86.568890  \n",
       "3 -86.575956  \n",
       "4 -86.579625  "
      ]
     },
     "execution_count": 24,
     "metadata": {},
     "output_type": "execute_result"
    }
   ],
   "source": [
    "car.head()"
   ]
  },
  {
   "cell_type": "code",
   "execution_count": 25,
   "id": "55eaad70",
   "metadata": {},
   "outputs": [
    {
     "data": {
      "text/plain": [
       "<Axes: xlabel='Weekend?', ylabel='count'>"
      ]
     },
     "execution_count": 25,
     "metadata": {},
     "output_type": "execute_result"
    },
    {
     "data": {
      "image/png": "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\n",
      "text/plain": [
       "<Figure size 640x480 with 1 Axes>"
      ]
     },
     "metadata": {},
     "output_type": "display_data"
    }
   ],
   "source": [
    "sns.countplot(data=car,x=\"Weekend?\")"
   ]
  },
  {
   "cell_type": "markdown",
   "id": "1cd9aaa3",
   "metadata": {},
   "source": [
    "- weekdays are more prone to accidents\n",
    "- the reason increased traffic volume,rush hour fatigue,distractions,more complex driving conditions\n",
    "- weekend accidents are not less \n",
    "- the reasons may be speeding and impaired driving,recreational activities,teenagers on the road,weather conditions"
   ]
  },
  {
   "cell_type": "code",
   "execution_count": 26,
   "id": "b5adde8c",
   "metadata": {},
   "outputs": [
    {
     "data": {
      "text/plain": [
       "<Axes: xlabel='Month', ylabel='count'>"
      ]
     },
     "execution_count": 26,
     "metadata": {},
     "output_type": "execute_result"
    },
    {
     "data": {
      "image/png": "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\n",
      "text/plain": [
       "<Figure size 640x480 with 1 Axes>"
      ]
     },
     "metadata": {},
     "output_type": "display_data"
    }
   ],
   "source": [
    "sns.countplot(data=car,x=\"Month\")"
   ]
  },
  {
   "cell_type": "markdown",
   "id": "ce475903",
   "metadata": {},
   "source": [
    "- october saw the most number of accidents followed by september then november\n",
    "- ther reasons may be Transition from summer to fall,Reduced daylight hours,Wet leaves and rain resulting in skidding \n",
    "- Holidays: October often sees holidays like Halloween and Thanksgiving, leading to more people traveling by car, which naturally increases the risk of accidents.\n",
    "- "
   ]
  },
  {
   "cell_type": "code",
   "execution_count": 27,
   "id": "491e6ed8",
   "metadata": {},
   "outputs": [
    {
     "data": {
      "text/plain": [
       "<Axes: xlabel='Year', ylabel='count'>"
      ]
     },
     "execution_count": 27,
     "metadata": {},
     "output_type": "execute_result"
    },
    {
     "data": {
      "image/png": "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\n",
      "text/plain": [
       "<Figure size 640x480 with 1 Axes>"
      ]
     },
     "metadata": {},
     "output_type": "display_data"
    }
   ],
   "source": [
    "sns.countplot(data=car,x=\"Year\")"
   ]
  },
  {
   "cell_type": "markdown",
   "id": "8b456c3c",
   "metadata": {},
   "source": [
    "- 2003 was a year recorded with more number of accidents followed by 2008 then 2015"
   ]
  },
  {
   "cell_type": "code",
   "execution_count": 28,
   "id": "ba3d0399",
   "metadata": {},
   "outputs": [
    {
     "data": {
      "text/plain": [
       "<matplotlib.legend.Legend at 0x286e42cfd60>"
      ]
     },
     "execution_count": 28,
     "metadata": {},
     "output_type": "execute_result"
    },
    {
     "data": {
      "image/png": "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\n",
      "text/plain": [
       "<Figure size 640x480 with 1 Axes>"
      ]
     },
     "metadata": {},
     "output_type": "display_data"
    }
   ],
   "source": [
    "sns.countplot(data=car,x=\"Year\",hue=\"Month\")\n",
    "plt.legend(bbox_to_anchor=(1.5,1), loc='upper right')"
   ]
  },
  {
   "cell_type": "markdown",
   "id": "05464015",
   "metadata": {},
   "source": [
    "- october got the highest accidents in the year 2003,2006 and 2012\n",
    "- feb and oct were the highest accident months in 2003 \n",
    "- the reasons of october have been given\n",
    "-  Icy roads and weather conditions due to winter storms can significantly increase the risk of skidding and loss of control, leading to more accidents. Additionally, reduced daylight hours might contribute to lower visibility and hamper driver judgment.\n",
    "- Major snowstorms or other weather events in February 2003 could have significantly impacted traffic flow and contributed to the higher accident rate. Additionally, local events like sporting events or holidays impacting travel during that time could be a factor"
   ]
  },
  {
   "cell_type": "code",
   "execution_count": 29,
   "id": "fc334ad1",
   "metadata": {},
   "outputs": [
    {
     "data": {
      "text/plain": [
       "<Axes: xlabel='Collision Type', ylabel='count'>"
      ]
     },
     "execution_count": 29,
     "metadata": {},
     "output_type": "execute_result"
    },
    {
     "data": {
      "image/png": "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\n",
      "text/plain": [
       "<Figure size 640x480 with 1 Axes>"
      ]
     },
     "metadata": {},
     "output_type": "display_data"
    }
   ],
   "source": [
    "sns.countplot(data=car,x=\"Collision Type\")\n"
   ]
  },
  {
   "cell_type": "markdown",
   "id": "54ebb773",
   "metadata": {},
   "source": [
    "- 2 car collision contributed in a very big amount followed by 1 car then 3+ cars"
   ]
  },
  {
   "cell_type": "code",
   "execution_count": 30,
   "id": "c937e2f2",
   "metadata": {},
   "outputs": [
    {
     "data": {
      "text/plain": [
       "<Axes: ylabel='Primary Factor'>"
      ]
     },
     "execution_count": 30,
     "metadata": {},
     "output_type": "execute_result"
    },
    {
     "data": {
      "image/png": "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\n",
      "text/plain": [
       "<Figure size 640x480 with 1 Axes>"
      ]
     },
     "metadata": {},
     "output_type": "display_data"
    }
   ],
   "source": [
    "car[\"Primary Factor\"].value_counts().head(20).plot(kind=\"pie\",autopct = '%1.0f%%')\n"
   ]
  },
  {
   "cell_type": "markdown",
   "id": "dc2ddbc3",
   "metadata": {},
   "source": [
    "- 24% of crashes are due to the failure to yield right of way\n",
    "- 14% is because of not keeping fair distance between vehicles which may end in rear end collisions or chain reactions\n",
    "- 12% is because of other driver\n",
    "- 10% because of unsafe backing\n",
    "\n"
   ]
  },
  {
   "cell_type": "code",
   "execution_count": 31,
   "id": "5ef963de",
   "metadata": {},
   "outputs": [
    {
     "data": {
      "text/html": [
       "<div>\n",
       "<style scoped>\n",
       "    .dataframe tbody tr th:only-of-type {\n",
       "        vertical-align: middle;\n",
       "    }\n",
       "\n",
       "    .dataframe tbody tr th {\n",
       "        vertical-align: top;\n",
       "    }\n",
       "\n",
       "    .dataframe thead th {\n",
       "        text-align: right;\n",
       "    }\n",
       "</style>\n",
       "<table border=\"1\" class=\"dataframe\">\n",
       "  <thead>\n",
       "    <tr style=\"text-align: right;\">\n",
       "      <th></th>\n",
       "      <th>Year</th>\n",
       "      <th>Month</th>\n",
       "      <th>Day</th>\n",
       "      <th>Weekend?</th>\n",
       "      <th>Hour</th>\n",
       "      <th>Collision Type</th>\n",
       "      <th>Injury Type</th>\n",
       "      <th>Primary Factor</th>\n",
       "      <th>Reported_Location</th>\n",
       "      <th>Latitude</th>\n",
       "      <th>Longitude</th>\n",
       "    </tr>\n",
       "  </thead>\n",
       "  <tbody>\n",
       "    <tr>\n",
       "      <th>0</th>\n",
       "      <td>2015</td>\n",
       "      <td>1</td>\n",
       "      <td>5</td>\n",
       "      <td>Weekday</td>\n",
       "      <td>0.0</td>\n",
       "      <td>2-Car</td>\n",
       "      <td>No injury/unknown</td>\n",
       "      <td>OTHER (DRIVER) - EXPLAIN IN NARRATIVE</td>\n",
       "      <td>1ST &amp; FESS</td>\n",
       "      <td>39.159207</td>\n",
       "      <td>-86.525874</td>\n",
       "    </tr>\n",
       "    <tr>\n",
       "      <th>1</th>\n",
       "      <td>2015</td>\n",
       "      <td>1</td>\n",
       "      <td>6</td>\n",
       "      <td>Weekday</td>\n",
       "      <td>1500.0</td>\n",
       "      <td>2-Car</td>\n",
       "      <td>No injury/unknown</td>\n",
       "      <td>FOLLOWING TOO CLOSELY</td>\n",
       "      <td>2ND &amp; COLLEGE</td>\n",
       "      <td>39.161440</td>\n",
       "      <td>-86.534848</td>\n",
       "    </tr>\n",
       "    <tr>\n",
       "      <th>2</th>\n",
       "      <td>2015</td>\n",
       "      <td>1</td>\n",
       "      <td>6</td>\n",
       "      <td>Weekend</td>\n",
       "      <td>2300.0</td>\n",
       "      <td>2-Car</td>\n",
       "      <td>Non-incapacitating</td>\n",
       "      <td>DISREGARD SIGNAL/REG SIGN</td>\n",
       "      <td>BASSWOOD &amp; BLOOMFIELD</td>\n",
       "      <td>39.149780</td>\n",
       "      <td>-86.568890</td>\n",
       "    </tr>\n",
       "    <tr>\n",
       "      <th>3</th>\n",
       "      <td>2015</td>\n",
       "      <td>1</td>\n",
       "      <td>7</td>\n",
       "      <td>Weekend</td>\n",
       "      <td>900.0</td>\n",
       "      <td>2-Car</td>\n",
       "      <td>Non-incapacitating</td>\n",
       "      <td>FAILURE TO YIELD RIGHT OF WAY</td>\n",
       "      <td>GATES &amp; JACOBS</td>\n",
       "      <td>39.165655</td>\n",
       "      <td>-86.575956</td>\n",
       "    </tr>\n",
       "    <tr>\n",
       "      <th>4</th>\n",
       "      <td>2015</td>\n",
       "      <td>1</td>\n",
       "      <td>7</td>\n",
       "      <td>Weekend</td>\n",
       "      <td>1100.0</td>\n",
       "      <td>2-Car</td>\n",
       "      <td>No injury/unknown</td>\n",
       "      <td>FAILURE TO YIELD RIGHT OF WAY</td>\n",
       "      <td>W 3RD</td>\n",
       "      <td>39.164848</td>\n",
       "      <td>-86.579625</td>\n",
       "    </tr>\n",
       "  </tbody>\n",
       "</table>\n",
       "</div>"
      ],
      "text/plain": [
       "   Year  Month  Day Weekend?    Hour Collision Type         Injury Type  \\\n",
       "0  2015      1    5  Weekday     0.0          2-Car   No injury/unknown   \n",
       "1  2015      1    6  Weekday  1500.0          2-Car   No injury/unknown   \n",
       "2  2015      1    6  Weekend  2300.0          2-Car  Non-incapacitating   \n",
       "3  2015      1    7  Weekend   900.0          2-Car  Non-incapacitating   \n",
       "4  2015      1    7  Weekend  1100.0          2-Car   No injury/unknown   \n",
       "\n",
       "                          Primary Factor      Reported_Location   Latitude  \\\n",
       "0  OTHER (DRIVER) - EXPLAIN IN NARRATIVE             1ST & FESS  39.159207   \n",
       "1                  FOLLOWING TOO CLOSELY          2ND & COLLEGE  39.161440   \n",
       "2              DISREGARD SIGNAL/REG SIGN  BASSWOOD & BLOOMFIELD  39.149780   \n",
       "3          FAILURE TO YIELD RIGHT OF WAY         GATES & JACOBS  39.165655   \n",
       "4          FAILURE TO YIELD RIGHT OF WAY                  W 3RD  39.164848   \n",
       "\n",
       "   Longitude  \n",
       "0 -86.525874  \n",
       "1 -86.534848  \n",
       "2 -86.568890  \n",
       "3 -86.575956  \n",
       "4 -86.579625  "
      ]
     },
     "execution_count": 31,
     "metadata": {},
     "output_type": "execute_result"
    }
   ],
   "source": [
    "car.head()"
   ]
  },
  {
   "cell_type": "code",
   "execution_count": 32,
   "id": "6caddce4",
   "metadata": {},
   "outputs": [
    {
     "data": {
      "text/plain": [
       "<Axes: >"
      ]
     },
     "execution_count": 32,
     "metadata": {},
     "output_type": "execute_result"
    },
    {
     "data": {
      "image/png": "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\n",
      "text/plain": [
       "<Figure size 640x480 with 1 Axes>"
      ]
     },
     "metadata": {},
     "output_type": "display_data"
    }
   ],
   "source": [
    "car[\"Reported_Location\"].value_counts().head(30).plot(kind=\"bar\")"
   ]
  },
  {
   "cell_type": "markdown",
   "id": "f9dfaa03",
   "metadata": {},
   "source": [
    "- the most accident prone area we can tell as E 3rd ST and W 3rd ST"
   ]
  },
  {
   "cell_type": "code",
   "execution_count": 33,
   "id": "88b666be",
   "metadata": {},
   "outputs": [
    {
     "data": {
      "text/plain": [
       "(array([ 0,  1,  2,  3,  4,  5,  6,  7,  8,  9, 10, 11, 12, 13, 14, 15, 16,\n",
       "        17, 18, 19, 20, 21, 22, 23, 24]),\n",
       " [Text(0, 0, 'FAILURE TO YIELD RIGHT OF WAY'),\n",
       "  Text(1, 0, 'FOLLOWING TOO CLOSELY'),\n",
       "  Text(2, 0, 'OTHER (DRIVER) - EXPLAIN IN NARRATIVE'),\n",
       "  Text(3, 0, 'UNSAFE BACKING'),\n",
       "  Text(4, 0, 'RAN OFF ROAD RIGHT'),\n",
       "  Text(5, 0, 'DISREGARD SIGNAL/REG SIGN'),\n",
       "  Text(6, 0, 'SPEED TOO FAST FOR WEATHER CONDITIONS'),\n",
       "  Text(7, 0, 'IMPROPER TURNING'),\n",
       "  Text(8, 0, 'ANIMAL/OBJECT IN ROADWAY'),\n",
       "  Text(9, 0, 'DRIVER DISTRACTED - EXPLAIN IN NARRATIVE'),\n",
       "  Text(10, 0, 'UNSAFE SPEED'),\n",
       "  Text(11, 0, 'ROADWAY SURFACE CONDITION'),\n",
       "  Text(12, 0, 'LEFT OF CENTER'),\n",
       "  Text(13, 0, 'IMPROPER LANE USAGE'),\n",
       "  Text(14, 0, 'ALCOHOLIC BEVERAGES'),\n",
       "  Text(15, 0, 'UNSAFE LANE MOVEMENT'),\n",
       "  Text(16, 0, 'OVERCORRECTING/OVERSTEERING'),\n",
       "  Text(17, 0, 'IMPROPER PASSING'),\n",
       "  Text(18, 0, 'OTHER (VEHICLE) - EXPLAIN IN NARRATIVE'),\n",
       "  Text(19, 0, 'OTHER (ENVIRONMENTAL) - EXPLAIN IN NARR'),\n",
       "  Text(20, 0, 'BRAKE FAILURE OR DEFECTIVE'),\n",
       "  Text(21, 0, 'PEDESTRIAN ACTION'),\n",
       "  Text(22, 0, 'DRIVER ASLEEP OR FATIGUED'),\n",
       "  Text(23, 0, 'DRIVER ILLNESS'),\n",
       "  Text(24, 0, 'VIEW OBSTRUCTED')])"
      ]
     },
     "execution_count": 33,
     "metadata": {},
     "output_type": "execute_result"
    },
    {
     "data": {
      "image/png": "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\n",
      "text/plain": [
       "<Figure size 640x480 with 1 Axes>"
      ]
     },
     "metadata": {},
     "output_type": "display_data"
    }
   ],
   "source": [
    "car[\"Primary Factor\"].value_counts().head(25).plot(kind=\"bar\")\n",
    "plt.xticks(rotation=90)"
   ]
  },
  {
   "cell_type": "code",
   "execution_count": 34,
   "id": "9259b54f",
   "metadata": {},
   "outputs": [
    {
     "data": {
      "text/plain": [
       "FAILURE TO YIELD RIGHT OF WAY               0.228330\n",
       "FOLLOWING TOO CLOSELY                       0.136467\n",
       "OTHER (DRIVER) - EXPLAIN IN NARRATIVE       0.114054\n",
       "UNSAFE BACKING                              0.096250\n",
       "RAN OFF ROAD RIGHT                          0.054286\n",
       "DISREGARD SIGNAL/REG SIGN                   0.040942\n",
       "SPEED TOO FAST FOR WEATHER CONDITIONS       0.035478\n",
       "IMPROPER TURNING                            0.034214\n",
       "ANIMAL/OBJECT IN ROADWAY                    0.031278\n",
       "DRIVER DISTRACTED - EXPLAIN IN NARRATIVE    0.030739\n",
       "UNSAFE SPEED                                0.027821\n",
       "ROADWAY SURFACE CONDITION                   0.023398\n",
       "LEFT OF CENTER                              0.019960\n",
       "IMPROPER LANE USAGE                         0.018231\n",
       "ALCOHOLIC BEVERAGES                         0.014942\n",
       "UNSAFE LANE MOVEMENT                        0.013994\n",
       "OVERCORRECTING/OVERSTEERING                 0.011095\n",
       "IMPROPER PASSING                            0.009181\n",
       "OTHER (VEHICLE) - EXPLAIN IN NARRATIVE      0.008753\n",
       "OTHER (ENVIRONMENTAL) - EXPLAIN IN NARR     0.007750\n",
       "BRAKE FAILURE OR DEFECTIVE                  0.006709\n",
       "PEDESTRIAN ACTION                           0.005427\n",
       "DRIVER ASLEEP OR FATIGUED                   0.004962\n",
       "DRIVER ILLNESS                              0.003345\n",
       "VIEW OBSTRUCTED                             0.003252\n",
       "CELL PHONE USAGE                            0.002620\n",
       "NONE (DRIVER)                               0.002156\n",
       "WRONG WAY ON ONE WAY                        0.001914\n",
       "TIRE FAILURE OR DEFECTIVE                   0.001561\n",
       "RAN OFF ROAD LEFT                           0.001096\n",
       "PRESCRIPTION DRUGS                          0.001078\n",
       "GLARE                                       0.000985\n",
       "ACCELERATOR FAILURE OR DEFECTIVE            0.000929\n",
       "INSECURE/LEAKY LOAD                         0.000855\n",
       "OBSTRUCTION NOT MARKED                      0.000688\n",
       "STEERING FAILURE                            0.000576\n",
       "PASSENGER DISTRACTION                       0.000576\n",
       "ILLEGAL DRUGS                               0.000539\n",
       "OTHER TELEMATICS IN USE                     0.000520\n",
       "OVERSIZE/OVERWEIGHT LOAD                    0.000483\n",
       "ENGINE FAILURE OR DEFECTIVE                 0.000465\n",
       "HEADLIGHT DEFECTIVE OR NOT ON               0.000353\n",
       "HOLES/RUTS IN SURFACE                       0.000279\n",
       "TRAFFIC CONTROL INOPERATIVE/MISSING/OBSC    0.000223\n",
       "NONE (ENVIRONMENTAL)                        0.000223\n",
       "NONE (VEHICLE)                              0.000204\n",
       "OTHER LIGHTS DEFECTIVE                      0.000186\n",
       "TOW HITCH FAILURE                           0.000149\n",
       "ROAD UNDER CONSTRUCTION                     0.000130\n",
       "JACKKNIFING                                 0.000112\n",
       "SEVERE CROSSWINDS                           0.000074\n",
       "LANE MARKING OBSCURED                       0.000056\n",
       "VIOLATION OF LICENSE RESTRICTION            0.000056\n",
       "SHOULDER DEFECTIVE                          0.000037\n",
       "UTILITY WORK                                0.000019\n",
       "Name: Primary Factor, dtype: float64"
      ]
     },
     "execution_count": 34,
     "metadata": {},
     "output_type": "execute_result"
    }
   ],
   "source": [
    "car[\"Primary Factor\"].value_counts(normalize=True)"
   ]
  },
  {
   "cell_type": "code",
   "execution_count": 35,
   "id": "9b81caf5",
   "metadata": {},
   "outputs": [
    {
     "data": {
      "text/html": [
       "<div>\n",
       "<style scoped>\n",
       "    .dataframe tbody tr th:only-of-type {\n",
       "        vertical-align: middle;\n",
       "    }\n",
       "\n",
       "    .dataframe tbody tr th {\n",
       "        vertical-align: top;\n",
       "    }\n",
       "\n",
       "    .dataframe thead th {\n",
       "        text-align: right;\n",
       "    }\n",
       "</style>\n",
       "<table border=\"1\" class=\"dataframe\">\n",
       "  <thead>\n",
       "    <tr style=\"text-align: right;\">\n",
       "      <th></th>\n",
       "      <th>Year</th>\n",
       "      <th>Month</th>\n",
       "      <th>Day</th>\n",
       "      <th>Weekend?</th>\n",
       "      <th>Hour</th>\n",
       "      <th>Collision Type</th>\n",
       "      <th>Injury Type</th>\n",
       "      <th>Primary Factor</th>\n",
       "      <th>Reported_Location</th>\n",
       "      <th>Latitude</th>\n",
       "      <th>Longitude</th>\n",
       "    </tr>\n",
       "  </thead>\n",
       "  <tbody>\n",
       "    <tr>\n",
       "      <th>0</th>\n",
       "      <td>2015</td>\n",
       "      <td>1</td>\n",
       "      <td>5</td>\n",
       "      <td>Weekday</td>\n",
       "      <td>0.0</td>\n",
       "      <td>2-Car</td>\n",
       "      <td>No injury/unknown</td>\n",
       "      <td>OTHER (DRIVER) - EXPLAIN IN NARRATIVE</td>\n",
       "      <td>1ST &amp; FESS</td>\n",
       "      <td>39.159207</td>\n",
       "      <td>-86.525874</td>\n",
       "    </tr>\n",
       "    <tr>\n",
       "      <th>1</th>\n",
       "      <td>2015</td>\n",
       "      <td>1</td>\n",
       "      <td>6</td>\n",
       "      <td>Weekday</td>\n",
       "      <td>1500.0</td>\n",
       "      <td>2-Car</td>\n",
       "      <td>No injury/unknown</td>\n",
       "      <td>FOLLOWING TOO CLOSELY</td>\n",
       "      <td>2ND &amp; COLLEGE</td>\n",
       "      <td>39.161440</td>\n",
       "      <td>-86.534848</td>\n",
       "    </tr>\n",
       "    <tr>\n",
       "      <th>2</th>\n",
       "      <td>2015</td>\n",
       "      <td>1</td>\n",
       "      <td>6</td>\n",
       "      <td>Weekend</td>\n",
       "      <td>2300.0</td>\n",
       "      <td>2-Car</td>\n",
       "      <td>Non-incapacitating</td>\n",
       "      <td>DISREGARD SIGNAL/REG SIGN</td>\n",
       "      <td>BASSWOOD &amp; BLOOMFIELD</td>\n",
       "      <td>39.149780</td>\n",
       "      <td>-86.568890</td>\n",
       "    </tr>\n",
       "    <tr>\n",
       "      <th>3</th>\n",
       "      <td>2015</td>\n",
       "      <td>1</td>\n",
       "      <td>7</td>\n",
       "      <td>Weekend</td>\n",
       "      <td>900.0</td>\n",
       "      <td>2-Car</td>\n",
       "      <td>Non-incapacitating</td>\n",
       "      <td>FAILURE TO YIELD RIGHT OF WAY</td>\n",
       "      <td>GATES &amp; JACOBS</td>\n",
       "      <td>39.165655</td>\n",
       "      <td>-86.575956</td>\n",
       "    </tr>\n",
       "    <tr>\n",
       "      <th>4</th>\n",
       "      <td>2015</td>\n",
       "      <td>1</td>\n",
       "      <td>7</td>\n",
       "      <td>Weekend</td>\n",
       "      <td>1100.0</td>\n",
       "      <td>2-Car</td>\n",
       "      <td>No injury/unknown</td>\n",
       "      <td>FAILURE TO YIELD RIGHT OF WAY</td>\n",
       "      <td>W 3RD</td>\n",
       "      <td>39.164848</td>\n",
       "      <td>-86.579625</td>\n",
       "    </tr>\n",
       "  </tbody>\n",
       "</table>\n",
       "</div>"
      ],
      "text/plain": [
       "   Year  Month  Day Weekend?    Hour Collision Type         Injury Type  \\\n",
       "0  2015      1    5  Weekday     0.0          2-Car   No injury/unknown   \n",
       "1  2015      1    6  Weekday  1500.0          2-Car   No injury/unknown   \n",
       "2  2015      1    6  Weekend  2300.0          2-Car  Non-incapacitating   \n",
       "3  2015      1    7  Weekend   900.0          2-Car  Non-incapacitating   \n",
       "4  2015      1    7  Weekend  1100.0          2-Car   No injury/unknown   \n",
       "\n",
       "                          Primary Factor      Reported_Location   Latitude  \\\n",
       "0  OTHER (DRIVER) - EXPLAIN IN NARRATIVE             1ST & FESS  39.159207   \n",
       "1                  FOLLOWING TOO CLOSELY          2ND & COLLEGE  39.161440   \n",
       "2              DISREGARD SIGNAL/REG SIGN  BASSWOOD & BLOOMFIELD  39.149780   \n",
       "3          FAILURE TO YIELD RIGHT OF WAY         GATES & JACOBS  39.165655   \n",
       "4          FAILURE TO YIELD RIGHT OF WAY                  W 3RD  39.164848   \n",
       "\n",
       "   Longitude  \n",
       "0 -86.525874  \n",
       "1 -86.534848  \n",
       "2 -86.568890  \n",
       "3 -86.575956  \n",
       "4 -86.579625  "
      ]
     },
     "execution_count": 35,
     "metadata": {},
     "output_type": "execute_result"
    }
   ],
   "source": [
    "car.head()"
   ]
  },
  {
   "cell_type": "code",
   "execution_count": 36,
   "id": "830e49af",
   "metadata": {},
   "outputs": [
    {
     "data": {
      "text/plain": [
       "<Axes: >"
      ]
     },
     "execution_count": 36,
     "metadata": {},
     "output_type": "execute_result"
    },
    {
     "data": {
      "image/png": "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\n",
      "text/plain": [
       "<Figure size 640x480 with 1 Axes>"
      ]
     },
     "metadata": {},
     "output_type": "display_data"
    }
   ],
   "source": [
    "car[\"Hour\"].value_counts().plot(kind=\"bar\")"
   ]
  },
  {
   "cell_type": "markdown",
   "id": "c76fedad",
   "metadata": {},
   "source": [
    "- 5pm was a time with more number of accidents followed by 4pm , 3pm , 12 pm\n",
    "- mainly because of the rush hour traffic\n",
    "- the driver can be tired by working all day\n",
    "- according to the place there is chance of less day light during this time\n",
    "- less car crashes are seen during midnight\n",
    "- In some regions, 5 pm might mark the transition from afternoon sun to cooler evening temperatures. This can cause changes in road conditions, like condensation or dew formation, making roads slicker and increasing the risk of skidding accidents"
   ]
  },
  {
   "cell_type": "code",
   "execution_count": 37,
   "id": "fba20894",
   "metadata": {},
   "outputs": [
    {
     "data": {
      "text/plain": [
       "<Axes: ylabel='Injury Type'>"
      ]
     },
     "execution_count": 37,
     "metadata": {},
     "output_type": "execute_result"
    },
    {
     "data": {
      "image/png": "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\n",
      "text/plain": [
       "<Figure size 640x480 with 1 Axes>"
      ]
     },
     "metadata": {},
     "output_type": "display_data"
    }
   ],
   "source": [
    "car[\"Injury Type\"].value_counts().plot(kind=\"pie\",autopct=\"%0.1f%%\")"
   ]
  },
  {
   "cell_type": "markdown",
   "id": "1f6d56a6",
   "metadata": {},
   "source": [
    "- 77% of car crashes are with no injury\n",
    "- 20.7% non incapacitating which means small injuries that doesnot affect their daily activities\n",
    "- 2% incapacitating which means their will be big injuries that limit your ability to complete with daily activities\n",
    "- only 0.2% is fatal"
   ]
  },
  {
   "cell_type": "code",
   "execution_count": 38,
   "id": "95363fd7",
   "metadata": {},
   "outputs": [],
   "source": [
    "fatal=car[car[\"Injury Type\"]==\"Fatal\"]"
   ]
  },
  {
   "cell_type": "code",
   "execution_count": 39,
   "id": "e8e43bb3",
   "metadata": {},
   "outputs": [
    {
     "data": {
      "text/html": [
       "<div>\n",
       "<style scoped>\n",
       "    .dataframe tbody tr th:only-of-type {\n",
       "        vertical-align: middle;\n",
       "    }\n",
       "\n",
       "    .dataframe tbody tr th {\n",
       "        vertical-align: top;\n",
       "    }\n",
       "\n",
       "    .dataframe thead th {\n",
       "        text-align: right;\n",
       "    }\n",
       "</style>\n",
       "<table border=\"1\" class=\"dataframe\">\n",
       "  <thead>\n",
       "    <tr style=\"text-align: right;\">\n",
       "      <th></th>\n",
       "      <th>Year</th>\n",
       "      <th>Month</th>\n",
       "      <th>Day</th>\n",
       "      <th>Weekend?</th>\n",
       "      <th>Hour</th>\n",
       "      <th>Collision Type</th>\n",
       "      <th>Injury Type</th>\n",
       "      <th>Primary Factor</th>\n",
       "      <th>Reported_Location</th>\n",
       "      <th>Latitude</th>\n",
       "      <th>Longitude</th>\n",
       "    </tr>\n",
       "  </thead>\n",
       "  <tbody>\n",
       "    <tr>\n",
       "      <th>530</th>\n",
       "      <td>2015</td>\n",
       "      <td>4</td>\n",
       "      <td>6</td>\n",
       "      <td>Weekday</td>\n",
       "      <td>1600.0</td>\n",
       "      <td>1-Car</td>\n",
       "      <td>Fatal</td>\n",
       "      <td>RAN OFF ROAD RIGHT</td>\n",
       "      <td>DUNCAN &amp; W LEONARD SPRINGS</td>\n",
       "      <td>39.122352</td>\n",
       "      <td>-86.596400</td>\n",
       "    </tr>\n",
       "    <tr>\n",
       "      <th>531</th>\n",
       "      <td>2015</td>\n",
       "      <td>4</td>\n",
       "      <td>7</td>\n",
       "      <td>Weekend</td>\n",
       "      <td>1500.0</td>\n",
       "      <td>2-Car</td>\n",
       "      <td>Fatal</td>\n",
       "      <td>RAN OFF ROAD RIGHT</td>\n",
       "      <td>KIRBY &amp; W ST RD 48</td>\n",
       "      <td>39.059185</td>\n",
       "      <td>-86.610820</td>\n",
       "    </tr>\n",
       "    <tr>\n",
       "      <th>649</th>\n",
       "      <td>2015</td>\n",
       "      <td>1</td>\n",
       "      <td>4</td>\n",
       "      <td>Weekday</td>\n",
       "      <td>1700.0</td>\n",
       "      <td>2-Car</td>\n",
       "      <td>Fatal</td>\n",
       "      <td>OTHER (DRIVER) - EXPLAIN IN NARRATIVE</td>\n",
       "      <td>SR 45</td>\n",
       "      <td>39.125312</td>\n",
       "      <td>-86.610496</td>\n",
       "    </tr>\n",
       "    <tr>\n",
       "      <th>1334</th>\n",
       "      <td>2015</td>\n",
       "      <td>4</td>\n",
       "      <td>1</td>\n",
       "      <td>Weekend</td>\n",
       "      <td>700.0</td>\n",
       "      <td>1-Car</td>\n",
       "      <td>Fatal</td>\n",
       "      <td>RAN OFF ROAD RIGHT</td>\n",
       "      <td>INGRAM &amp; SR37N</td>\n",
       "      <td>39.002892</td>\n",
       "      <td>-86.537282</td>\n",
       "    </tr>\n",
       "    <tr>\n",
       "      <th>1873</th>\n",
       "      <td>2015</td>\n",
       "      <td>6</td>\n",
       "      <td>3</td>\n",
       "      <td>Weekday</td>\n",
       "      <td>2200.0</td>\n",
       "      <td>Moped/Motorcycle</td>\n",
       "      <td>Fatal</td>\n",
       "      <td>RAN OFF ROAD RIGHT</td>\n",
       "      <td>SR37S &amp; STATE ROAD 45</td>\n",
       "      <td>39.252134</td>\n",
       "      <td>-86.575043</td>\n",
       "    </tr>\n",
       "    <tr>\n",
       "      <th>...</th>\n",
       "      <td>...</td>\n",
       "      <td>...</td>\n",
       "      <td>...</td>\n",
       "      <td>...</td>\n",
       "      <td>...</td>\n",
       "      <td>...</td>\n",
       "      <td>...</td>\n",
       "      <td>...</td>\n",
       "      <td>...</td>\n",
       "      <td>...</td>\n",
       "      <td>...</td>\n",
       "    </tr>\n",
       "    <tr>\n",
       "      <th>53043</th>\n",
       "      <td>2003</td>\n",
       "      <td>6</td>\n",
       "      <td>5</td>\n",
       "      <td>Weekday</td>\n",
       "      <td>700.0</td>\n",
       "      <td>2-Car</td>\n",
       "      <td>Fatal</td>\n",
       "      <td>LEFT OF CENTER</td>\n",
       "      <td>FULLERTON PIKE &amp; SR 37</td>\n",
       "      <td>39.122332</td>\n",
       "      <td>-86.569889</td>\n",
       "    </tr>\n",
       "    <tr>\n",
       "      <th>53289</th>\n",
       "      <td>2003</td>\n",
       "      <td>4</td>\n",
       "      <td>7</td>\n",
       "      <td>Weekend</td>\n",
       "      <td>0.0</td>\n",
       "      <td>Moped/Motorcycle</td>\n",
       "      <td>Fatal</td>\n",
       "      <td>ALCOHOLIC BEVERAGES</td>\n",
       "      <td>CLEVE BUTCHER &amp; FAIRFAX</td>\n",
       "      <td>39.060039</td>\n",
       "      <td>-86.498433</td>\n",
       "    </tr>\n",
       "    <tr>\n",
       "      <th>53665</th>\n",
       "      <td>2003</td>\n",
       "      <td>10</td>\n",
       "      <td>6</td>\n",
       "      <td>Weekday</td>\n",
       "      <td>400.0</td>\n",
       "      <td>1-Car</td>\n",
       "      <td>Fatal</td>\n",
       "      <td>RAN OFF ROAD LEFT</td>\n",
       "      <td>CEDAR BLUFF &amp; SR37</td>\n",
       "      <td>0.000000</td>\n",
       "      <td>0.000000</td>\n",
       "    </tr>\n",
       "    <tr>\n",
       "      <th>53681</th>\n",
       "      <td>2003</td>\n",
       "      <td>5</td>\n",
       "      <td>4</td>\n",
       "      <td>Weekday</td>\n",
       "      <td>1700.0</td>\n",
       "      <td>2-Car</td>\n",
       "      <td>Fatal</td>\n",
       "      <td>LEFT OF CENTER</td>\n",
       "      <td>BURGOON CHAPEL &amp; SR446</td>\n",
       "      <td>0.000000</td>\n",
       "      <td>0.000000</td>\n",
       "    </tr>\n",
       "    <tr>\n",
       "      <th>53685</th>\n",
       "      <td>2003</td>\n",
       "      <td>7</td>\n",
       "      <td>5</td>\n",
       "      <td>Weekday</td>\n",
       "      <td>500.0</td>\n",
       "      <td>1-Car</td>\n",
       "      <td>Fatal</td>\n",
       "      <td>PEDESTRIAN ACTION</td>\n",
       "      <td>RHORER RED &amp; SR37</td>\n",
       "      <td>0.000000</td>\n",
       "      <td>0.000000</td>\n",
       "    </tr>\n",
       "  </tbody>\n",
       "</table>\n",
       "<p>115 rows × 11 columns</p>\n",
       "</div>"
      ],
      "text/plain": [
       "       Year  Month  Day Weekend?    Hour    Collision Type Injury Type  \\\n",
       "530    2015      4    6  Weekday  1600.0             1-Car       Fatal   \n",
       "531    2015      4    7  Weekend  1500.0             2-Car       Fatal   \n",
       "649    2015      1    4  Weekday  1700.0             2-Car       Fatal   \n",
       "1334   2015      4    1  Weekend   700.0             1-Car       Fatal   \n",
       "1873   2015      6    3  Weekday  2200.0  Moped/Motorcycle       Fatal   \n",
       "...     ...    ...  ...      ...     ...               ...         ...   \n",
       "53043  2003      6    5  Weekday   700.0             2-Car       Fatal   \n",
       "53289  2003      4    7  Weekend     0.0  Moped/Motorcycle       Fatal   \n",
       "53665  2003     10    6  Weekday   400.0             1-Car       Fatal   \n",
       "53681  2003      5    4  Weekday  1700.0             2-Car       Fatal   \n",
       "53685  2003      7    5  Weekday   500.0             1-Car       Fatal   \n",
       "\n",
       "                              Primary Factor           Reported_Location  \\\n",
       "530                       RAN OFF ROAD RIGHT  DUNCAN & W LEONARD SPRINGS   \n",
       "531                       RAN OFF ROAD RIGHT          KIRBY & W ST RD 48   \n",
       "649    OTHER (DRIVER) - EXPLAIN IN NARRATIVE                       SR 45   \n",
       "1334                      RAN OFF ROAD RIGHT              INGRAM & SR37N   \n",
       "1873                      RAN OFF ROAD RIGHT       SR37S & STATE ROAD 45   \n",
       "...                                      ...                         ...   \n",
       "53043                         LEFT OF CENTER      FULLERTON PIKE & SR 37   \n",
       "53289                    ALCOHOLIC BEVERAGES     CLEVE BUTCHER & FAIRFAX   \n",
       "53665                      RAN OFF ROAD LEFT          CEDAR BLUFF & SR37   \n",
       "53681                         LEFT OF CENTER      BURGOON CHAPEL & SR446   \n",
       "53685                      PEDESTRIAN ACTION           RHORER RED & SR37   \n",
       "\n",
       "        Latitude  Longitude  \n",
       "530    39.122352 -86.596400  \n",
       "531    39.059185 -86.610820  \n",
       "649    39.125312 -86.610496  \n",
       "1334   39.002892 -86.537282  \n",
       "1873   39.252134 -86.575043  \n",
       "...          ...        ...  \n",
       "53043  39.122332 -86.569889  \n",
       "53289  39.060039 -86.498433  \n",
       "53665   0.000000   0.000000  \n",
       "53681   0.000000   0.000000  \n",
       "53685   0.000000   0.000000  \n",
       "\n",
       "[115 rows x 11 columns]"
      ]
     },
     "execution_count": 39,
     "metadata": {},
     "output_type": "execute_result"
    }
   ],
   "source": [
    "fatal"
   ]
  },
  {
   "cell_type": "code",
   "execution_count": 40,
   "id": "6b9003db",
   "metadata": {},
   "outputs": [
    {
     "data": {
      "text/plain": [
       "1-Car               49\n",
       "2-Car               31\n",
       "Moped/Motorcycle    21\n",
       "Pedestrian           8\n",
       "3+ Cars              5\n",
       "Bus                  1\n",
       "Name: Collision Type, dtype: int64"
      ]
     },
     "execution_count": 40,
     "metadata": {},
     "output_type": "execute_result"
    }
   ],
   "source": [
    "fatal[\"Collision Type\"].value_counts()"
   ]
  },
  {
   "cell_type": "code",
   "execution_count": 41,
   "id": "36b2fc45",
   "metadata": {},
   "outputs": [
    {
     "data": {
      "text/plain": [
       "RAN OFF ROAD RIGHT                       24\n",
       "UNSAFE SPEED                              7\n",
       "ALCOHOLIC BEVERAGES                       5\n",
       "OTHER (DRIVER) - EXPLAIN IN NARRATIVE     3\n",
       "RAN OFF ROAD LEFT                         3\n",
       "PEDESTRIAN ACTION                         2\n",
       "OBSTRUCTION NOT MARKED                    1\n",
       "LEFT OF CENTER                            1\n",
       "OVERCORRECTING/OVERSTEERING               1\n",
       "ROADWAY SURFACE CONDITION                 1\n",
       "DRIVER ASLEEP OR FATIGUED                 1\n",
       "Name: Primary Factor, dtype: int64"
      ]
     },
     "execution_count": 41,
     "metadata": {},
     "output_type": "execute_result"
    }
   ],
   "source": [
    "fatal[fatal[\"Collision Type\"]==\"1-Car\"][\"Primary Factor\"].value_counts()"
   ]
  },
  {
   "cell_type": "markdown",
   "id": "744618d5",
   "metadata": {},
   "source": [
    "- ran off road right was more which caused fatal injuries in single car accident , The vehicle moving sideways and crossed the right edge of the road, potentially onto the shoulder, sidewalk, or into a ditch \n",
    "- loss of control\n",
    "- the vehicle might have bumped into posts , fences or some obstacles\n"
   ]
  },
  {
   "cell_type": "code",
   "execution_count": 42,
   "id": "db9f54cd",
   "metadata": {},
   "outputs": [
    {
     "data": {
      "text/plain": [
       "LEFT OF CENTER                             13\n",
       "FAILURE TO YIELD RIGHT OF WAY               4\n",
       "DISREGARD SIGNAL/REG SIGN                   3\n",
       "OTHER (DRIVER) - EXPLAIN IN NARRATIVE       2\n",
       "OVERCORRECTING/OVERSTEERING                 2\n",
       "UNSAFE SPEED                                2\n",
       "RAN OFF ROAD RIGHT                          1\n",
       "ACCELERATOR FAILURE OR DEFECTIVE            1\n",
       "IMPROPER PASSING                            1\n",
       "OTHER (ENVIRONMENTAL) - EXPLAIN IN NARR     1\n",
       "SPEED TOO FAST FOR WEATHER CONDITIONS       1\n",
       "Name: Primary Factor, dtype: int64"
      ]
     },
     "execution_count": 42,
     "metadata": {},
     "output_type": "execute_result"
    }
   ],
   "source": [
    "fatal[fatal[\"Collision Type\"]==\"2-Car\"][\"Primary Factor\"].value_counts()"
   ]
  },
  {
   "cell_type": "markdown",
   "id": "8112cc02",
   "metadata": {},
   "source": [
    "- left of center came to be the main reason for fatal injuries in 2 car collision resulting in lane change and colliding car coming in opp direction\n",
    "- Improper passing\n",
    "- Turning or merging accidents\n"
   ]
  },
  {
   "cell_type": "code",
   "execution_count": 43,
   "id": "65ddd95f",
   "metadata": {},
   "outputs": [],
   "source": [
    "incap=car[car[\"Injury Type\"]==\"Incapacitating\"]"
   ]
  },
  {
   "cell_type": "code",
   "execution_count": 44,
   "id": "32afb88e",
   "metadata": {
    "scrolled": true
   },
   "outputs": [
    {
     "data": {
      "text/html": [
       "<div>\n",
       "<style scoped>\n",
       "    .dataframe tbody tr th:only-of-type {\n",
       "        vertical-align: middle;\n",
       "    }\n",
       "\n",
       "    .dataframe tbody tr th {\n",
       "        vertical-align: top;\n",
       "    }\n",
       "\n",
       "    .dataframe thead th {\n",
       "        text-align: right;\n",
       "    }\n",
       "</style>\n",
       "<table border=\"1\" class=\"dataframe\">\n",
       "  <thead>\n",
       "    <tr style=\"text-align: right;\">\n",
       "      <th></th>\n",
       "      <th>Year</th>\n",
       "      <th>Month</th>\n",
       "      <th>Day</th>\n",
       "      <th>Weekend?</th>\n",
       "      <th>Hour</th>\n",
       "      <th>Collision Type</th>\n",
       "      <th>Injury Type</th>\n",
       "      <th>Primary Factor</th>\n",
       "      <th>Reported_Location</th>\n",
       "      <th>Latitude</th>\n",
       "      <th>Longitude</th>\n",
       "    </tr>\n",
       "  </thead>\n",
       "  <tbody>\n",
       "    <tr>\n",
       "      <th>7</th>\n",
       "      <td>2015</td>\n",
       "      <td>1</td>\n",
       "      <td>6</td>\n",
       "      <td>Weekday</td>\n",
       "      <td>1400.0</td>\n",
       "      <td>1-Car</td>\n",
       "      <td>Incapacitating</td>\n",
       "      <td>ENGINE FAILURE OR DEFECTIVE</td>\n",
       "      <td>NORTH LOUDEN RD</td>\n",
       "      <td>39.199272</td>\n",
       "      <td>-86.637024</td>\n",
       "    </tr>\n",
       "    <tr>\n",
       "      <th>14</th>\n",
       "      <td>2015</td>\n",
       "      <td>1</td>\n",
       "      <td>1</td>\n",
       "      <td>Weekend</td>\n",
       "      <td>1300.0</td>\n",
       "      <td>3+ Cars</td>\n",
       "      <td>Incapacitating</td>\n",
       "      <td>DISREGARD SIGNAL/REG SIGN</td>\n",
       "      <td>ROGERS &amp; W PATTERSON</td>\n",
       "      <td>39.153790</td>\n",
       "      <td>-86.538750</td>\n",
       "    </tr>\n",
       "    <tr>\n",
       "      <th>38</th>\n",
       "      <td>2015</td>\n",
       "      <td>1</td>\n",
       "      <td>7</td>\n",
       "      <td>Weekend</td>\n",
       "      <td>1800.0</td>\n",
       "      <td>Pedestrian</td>\n",
       "      <td>Incapacitating</td>\n",
       "      <td>PEDESTRIAN ACTION</td>\n",
       "      <td>COOLIDGE &amp; ROCKPORT</td>\n",
       "      <td>39.141926</td>\n",
       "      <td>-86.543142</td>\n",
       "    </tr>\n",
       "    <tr>\n",
       "      <th>44</th>\n",
       "      <td>2015</td>\n",
       "      <td>1</td>\n",
       "      <td>4</td>\n",
       "      <td>Weekday</td>\n",
       "      <td>400.0</td>\n",
       "      <td>1-Car</td>\n",
       "      <td>Incapacitating</td>\n",
       "      <td>RAN OFF ROAD RIGHT</td>\n",
       "      <td>BREEDEN &amp; SR45W</td>\n",
       "      <td>39.088157</td>\n",
       "      <td>-86.669012</td>\n",
       "    </tr>\n",
       "    <tr>\n",
       "      <th>60</th>\n",
       "      <td>2015</td>\n",
       "      <td>1</td>\n",
       "      <td>5</td>\n",
       "      <td>Weekday</td>\n",
       "      <td>1800.0</td>\n",
       "      <td>Cyclist</td>\n",
       "      <td>Incapacitating</td>\n",
       "      <td>OTHER (DRIVER) - EXPLAIN IN NARRATIVE</td>\n",
       "      <td>ATWATER &amp; HIGH</td>\n",
       "      <td>39.163115</td>\n",
       "      <td>-86.508462</td>\n",
       "    </tr>\n",
       "    <tr>\n",
       "      <th>...</th>\n",
       "      <td>...</td>\n",
       "      <td>...</td>\n",
       "      <td>...</td>\n",
       "      <td>...</td>\n",
       "      <td>...</td>\n",
       "      <td>...</td>\n",
       "      <td>...</td>\n",
       "      <td>...</td>\n",
       "      <td>...</td>\n",
       "      <td>...</td>\n",
       "      <td>...</td>\n",
       "    </tr>\n",
       "    <tr>\n",
       "      <th>52995</th>\n",
       "      <td>2003</td>\n",
       "      <td>6</td>\n",
       "      <td>1</td>\n",
       "      <td>Weekend</td>\n",
       "      <td>1500.0</td>\n",
       "      <td>2-Car</td>\n",
       "      <td>Incapacitating</td>\n",
       "      <td>FAILURE TO YIELD RIGHT OF WAY</td>\n",
       "      <td>HEATHERWOOD &amp; LEONARD SPRINGS RD</td>\n",
       "      <td>39.126976</td>\n",
       "      <td>-86.582464</td>\n",
       "    </tr>\n",
       "    <tr>\n",
       "      <th>52997</th>\n",
       "      <td>2003</td>\n",
       "      <td>4</td>\n",
       "      <td>4</td>\n",
       "      <td>Weekday</td>\n",
       "      <td>1400.0</td>\n",
       "      <td>2-Car</td>\n",
       "      <td>Incapacitating</td>\n",
       "      <td>FOLLOWING TOO CLOSELY</td>\n",
       "      <td>PINEWOOD &amp; WALNUT ST</td>\n",
       "      <td>39.126717</td>\n",
       "      <td>-86.531399</td>\n",
       "    </tr>\n",
       "    <tr>\n",
       "      <th>53039</th>\n",
       "      <td>2003</td>\n",
       "      <td>8</td>\n",
       "      <td>2</td>\n",
       "      <td>Weekday</td>\n",
       "      <td>1400.0</td>\n",
       "      <td>2-Car</td>\n",
       "      <td>Incapacitating</td>\n",
       "      <td>FAILURE TO YIELD RIGHT OF WAY</td>\n",
       "      <td>FULLERTON &amp; SR37</td>\n",
       "      <td>39.122352</td>\n",
       "      <td>-86.571200</td>\n",
       "    </tr>\n",
       "    <tr>\n",
       "      <th>53075</th>\n",
       "      <td>2003</td>\n",
       "      <td>1</td>\n",
       "      <td>5</td>\n",
       "      <td>Weekday</td>\n",
       "      <td>1700.0</td>\n",
       "      <td>2-Car</td>\n",
       "      <td>Incapacitating</td>\n",
       "      <td>FAILURE TO YIELD RIGHT OF WAY</td>\n",
       "      <td>DUNLAP &amp; SR45</td>\n",
       "      <td>39.119344</td>\n",
       "      <td>-86.618896</td>\n",
       "    </tr>\n",
       "    <tr>\n",
       "      <th>53425</th>\n",
       "      <td>2003</td>\n",
       "      <td>10</td>\n",
       "      <td>7</td>\n",
       "      <td>Weekend</td>\n",
       "      <td>1400.0</td>\n",
       "      <td>2-Car</td>\n",
       "      <td>Incapacitating</td>\n",
       "      <td>LEFT OF CENTER</td>\n",
       "      <td>HEDRICK &amp; SR46</td>\n",
       "      <td>0.000000</td>\n",
       "      <td>0.000000</td>\n",
       "    </tr>\n",
       "  </tbody>\n",
       "</table>\n",
       "<p>1082 rows × 11 columns</p>\n",
       "</div>"
      ],
      "text/plain": [
       "       Year  Month  Day Weekend?    Hour Collision Type     Injury Type  \\\n",
       "7      2015      1    6  Weekday  1400.0          1-Car  Incapacitating   \n",
       "14     2015      1    1  Weekend  1300.0        3+ Cars  Incapacitating   \n",
       "38     2015      1    7  Weekend  1800.0     Pedestrian  Incapacitating   \n",
       "44     2015      1    4  Weekday   400.0          1-Car  Incapacitating   \n",
       "60     2015      1    5  Weekday  1800.0        Cyclist  Incapacitating   \n",
       "...     ...    ...  ...      ...     ...            ...             ...   \n",
       "52995  2003      6    1  Weekend  1500.0          2-Car  Incapacitating   \n",
       "52997  2003      4    4  Weekday  1400.0          2-Car  Incapacitating   \n",
       "53039  2003      8    2  Weekday  1400.0          2-Car  Incapacitating   \n",
       "53075  2003      1    5  Weekday  1700.0          2-Car  Incapacitating   \n",
       "53425  2003     10    7  Weekend  1400.0          2-Car  Incapacitating   \n",
       "\n",
       "                              Primary Factor  \\\n",
       "7                ENGINE FAILURE OR DEFECTIVE   \n",
       "14                 DISREGARD SIGNAL/REG SIGN   \n",
       "38                         PEDESTRIAN ACTION   \n",
       "44                        RAN OFF ROAD RIGHT   \n",
       "60     OTHER (DRIVER) - EXPLAIN IN NARRATIVE   \n",
       "...                                      ...   \n",
       "52995          FAILURE TO YIELD RIGHT OF WAY   \n",
       "52997                  FOLLOWING TOO CLOSELY   \n",
       "53039          FAILURE TO YIELD RIGHT OF WAY   \n",
       "53075          FAILURE TO YIELD RIGHT OF WAY   \n",
       "53425                         LEFT OF CENTER   \n",
       "\n",
       "                      Reported_Location   Latitude  Longitude  \n",
       "7                       NORTH LOUDEN RD  39.199272 -86.637024  \n",
       "14                 ROGERS & W PATTERSON  39.153790 -86.538750  \n",
       "38                  COOLIDGE & ROCKPORT  39.141926 -86.543142  \n",
       "44                      BREEDEN & SR45W  39.088157 -86.669012  \n",
       "60                       ATWATER & HIGH  39.163115 -86.508462  \n",
       "...                                 ...        ...        ...  \n",
       "52995  HEATHERWOOD & LEONARD SPRINGS RD  39.126976 -86.582464  \n",
       "52997              PINEWOOD & WALNUT ST  39.126717 -86.531399  \n",
       "53039                  FULLERTON & SR37  39.122352 -86.571200  \n",
       "53075                     DUNLAP & SR45  39.119344 -86.618896  \n",
       "53425                    HEDRICK & SR46   0.000000   0.000000  \n",
       "\n",
       "[1082 rows x 11 columns]"
      ]
     },
     "execution_count": 44,
     "metadata": {},
     "output_type": "execute_result"
    }
   ],
   "source": [
    "incap"
   ]
  },
  {
   "cell_type": "code",
   "execution_count": 45,
   "id": "1aee137e",
   "metadata": {},
   "outputs": [
    {
     "data": {
      "text/plain": [
       "2-Car               445\n",
       "1-Car               204\n",
       "Moped/Motorcycle    154\n",
       "3+ Cars             116\n",
       "Pedestrian          104\n",
       "Cyclist              50\n",
       "Bus                   9\n",
       "Name: Collision Type, dtype: int64"
      ]
     },
     "execution_count": 45,
     "metadata": {},
     "output_type": "execute_result"
    }
   ],
   "source": [
    "incap[\"Collision Type\"].value_counts()"
   ]
  },
  {
   "cell_type": "code",
   "execution_count": 46,
   "id": "ea396f97",
   "metadata": {},
   "outputs": [
    {
     "data": {
      "text/plain": [
       "FAILURE TO YIELD RIGHT OF WAY               163\n",
       "FOLLOWING TOO CLOSELY                        73\n",
       "DISREGARD SIGNAL/REG SIGN                    47\n",
       "LEFT OF CENTER                               42\n",
       "OTHER (DRIVER) - EXPLAIN IN NARRATIVE        20\n",
       "UNSAFE SPEED                                 15\n",
       "IMPROPER TURNING                             13\n",
       "DRIVER ILLNESS                                9\n",
       "SPEED TOO FAST FOR WEATHER CONDITIONS         9\n",
       "UNSAFE LANE MOVEMENT                          8\n",
       "DRIVER DISTRACTED - EXPLAIN IN NARRATIVE      8\n",
       "IMPROPER PASSING                              5\n",
       "ROADWAY SURFACE CONDITION                     5\n",
       "DRIVER ASLEEP OR FATIGUED                     5\n",
       "ALCOHOLIC BEVERAGES                           4\n",
       "OVERCORRECTING/OVERSTEERING                   2\n",
       "CELL PHONE USAGE                              2\n",
       "BRAKE FAILURE OR DEFECTIVE                    2\n",
       "UNSAFE BACKING                                2\n",
       "WRONG WAY ON ONE WAY                          2\n",
       "RAN OFF ROAD RIGHT                            2\n",
       "IMPROPER LANE USAGE                           1\n",
       "ACCELERATOR FAILURE OR DEFECTIVE              1\n",
       "ANIMAL/OBJECT IN ROADWAY                      1\n",
       "PASSENGER DISTRACTION                         1\n",
       "OTHER (ENVIRONMENTAL) - EXPLAIN IN NARR       1\n",
       "OTHER (VEHICLE) - EXPLAIN IN NARRATIVE        1\n",
       "PRESCRIPTION DRUGS                            1\n",
       "Name: Primary Factor, dtype: int64"
      ]
     },
     "execution_count": 46,
     "metadata": {},
     "output_type": "execute_result"
    }
   ],
   "source": [
    "incap[incap[\"Collision Type\"]==\"2-Car\"][\"Primary Factor\"].value_counts()"
   ]
  },
  {
   "cell_type": "markdown",
   "id": "6320f078",
   "metadata": {},
   "source": [
    "- Increased accident risk: Not yielding right of way significantly increases the chances of colliding with another vehicle, especially in busy intersections or merging areas.\n",
    "- Severity of crashes: Accidents involving failures to yield can be severe, particularly when speed and impact forces are significant.\n",
    "- Traffic violation: Ignoring the right of way is a traffic violation and can result in fines, points on your license, or even court appearances if the accident was major."
   ]
  },
  {
   "cell_type": "code",
   "execution_count": 47,
   "id": "1cae1962",
   "metadata": {},
   "outputs": [
    {
     "data": {
      "text/plain": [
       "FAILURE TO YIELD RIGHT OF WAY               275\n",
       "RAN OFF ROAD RIGHT                          129\n",
       "FOLLOWING TOO CLOSELY                       127\n",
       "OTHER (DRIVER) - EXPLAIN IN NARRATIVE        75\n",
       "DISREGARD SIGNAL/REG SIGN                    66\n",
       "LEFT OF CENTER                               61\n",
       "PEDESTRIAN ACTION                            46\n",
       "UNSAFE SPEED                                 45\n",
       "SPEED TOO FAST FOR WEATHER CONDITIONS        32\n",
       "DRIVER DISTRACTED - EXPLAIN IN NARRATIVE     26\n",
       "ALCOHOLIC BEVERAGES                          26\n",
       "DRIVER ILLNESS                               25\n",
       "IMPROPER TURNING                             24\n",
       "OVERCORRECTING/OVERSTEERING                  17\n",
       "ANIMAL/OBJECT IN ROADWAY                     17\n",
       "ROADWAY SURFACE CONDITION                    16\n",
       "UNSAFE LANE MOVEMENT                         11\n",
       "IMPROPER PASSING                             10\n",
       "UNSAFE BACKING                                8\n",
       "DRIVER ASLEEP OR FATIGUED                     8\n",
       "OTHER (VEHICLE) - EXPLAIN IN NARRATIVE        8\n",
       "BRAKE FAILURE OR DEFECTIVE                    7\n",
       "IMPROPER LANE USAGE                           4\n",
       "WRONG WAY ON ONE WAY                          3\n",
       "OTHER (ENVIRONMENTAL) - EXPLAIN IN NARR       3\n",
       "ACCELERATOR FAILURE OR DEFECTIVE              3\n",
       "PRESCRIPTION DRUGS                            2\n",
       "OBSTRUCTION NOT MARKED                        2\n",
       "CELL PHONE USAGE                              2\n",
       "NONE (DRIVER)                                 1\n",
       "ENGINE FAILURE OR DEFECTIVE                   1\n",
       "PASSENGER DISTRACTION                         1\n",
       "NONE (ENVIRONMENTAL)                          1\n",
       "Name: Primary Factor, dtype: int64"
      ]
     },
     "execution_count": 47,
     "metadata": {},
     "output_type": "execute_result"
    }
   ],
   "source": [
    "incap[\"Primary Factor\"].value_counts()"
   ]
  },
  {
   "cell_type": "code",
   "execution_count": 48,
   "id": "8427ba56",
   "metadata": {},
   "outputs": [
    {
     "data": {
      "text/plain": [
       "RAN OFF ROAD RIGHT                          106\n",
       "SPEED TOO FAST FOR WEATHER CONDITIONS        15\n",
       "DRIVER ILLNESS                               14\n",
       "OTHER (DRIVER) - EXPLAIN IN NARRATIVE        12\n",
       "UNSAFE SPEED                                 12\n",
       "OVERCORRECTING/OVERSTEERING                   9\n",
       "ALCOHOLIC BEVERAGES                           6\n",
       "ANIMAL/OBJECT IN ROADWAY                      6\n",
       "OTHER (VEHICLE) - EXPLAIN IN NARRATIVE        3\n",
       "DRIVER ASLEEP OR FATIGUED                     3\n",
       "DRIVER DISTRACTED - EXPLAIN IN NARRATIVE      3\n",
       "ROADWAY SURFACE CONDITION                     2\n",
       "OBSTRUCTION NOT MARKED                        2\n",
       "IMPROPER LANE USAGE                           2\n",
       "IMPROPER TURNING                              2\n",
       "PRESCRIPTION DRUGS                            1\n",
       "ENGINE FAILURE OR DEFECTIVE                   1\n",
       "OTHER (ENVIRONMENTAL) - EXPLAIN IN NARR       1\n",
       "LEFT OF CENTER                                1\n",
       "BRAKE FAILURE OR DEFECTIVE                    1\n",
       "DISREGARD SIGNAL/REG SIGN                     1\n",
       "FAILURE TO YIELD RIGHT OF WAY                 1\n",
       "Name: Primary Factor, dtype: int64"
      ]
     },
     "execution_count": 48,
     "metadata": {},
     "output_type": "execute_result"
    }
   ],
   "source": [
    "incap[incap[\"Collision Type\"]==\"1-Car\"][\"Primary Factor\"].value_counts()"
   ]
  },
  {
   "cell_type": "code",
   "execution_count": 49,
   "id": "1f3a3cd9",
   "metadata": {},
   "outputs": [
    {
     "name": "stdout",
     "output_type": "stream",
     "text": [
      "Requirement already satisfied: geopandas in c:\\hello world\\lib\\site-packages (0.14.2)\n",
      "Requirement already satisfied: matplotlib in c:\\hello world\\lib\\site-packages (3.7.0)\n",
      "Requirement already satisfied: plotly in c:\\hello world\\lib\\site-packages (5.9.0)\n",
      "Requirement already satisfied: folium in c:\\hello world\\lib\\site-packages (0.15.1)\n",
      "Requirement already satisfied: packaging in c:\\hello world\\lib\\site-packages (from geopandas) (22.0)\n",
      "Requirement already satisfied: pandas>=1.4.0 in c:\\hello world\\lib\\site-packages (from geopandas) (1.5.3)\n",
      "Requirement already satisfied: pyproj>=3.3.0 in c:\\hello world\\lib\\site-packages (from geopandas) (3.6.1)\n",
      "Requirement already satisfied: fiona>=1.8.21 in c:\\hello world\\lib\\site-packages (from geopandas) (1.9.5)\n",
      "Requirement already satisfied: shapely>=1.8.0 in c:\\hello world\\lib\\site-packages (from geopandas) (2.0.2)\n",
      "Requirement already satisfied: python-dateutil>=2.7 in c:\\hello world\\lib\\site-packages (from matplotlib) (2.8.2)\n",
      "Requirement already satisfied: fonttools>=4.22.0 in c:\\hello world\\lib\\site-packages (from matplotlib) (4.25.0)\n",
      "Requirement already satisfied: numpy>=1.20 in c:\\hello world\\lib\\site-packages (from matplotlib) (1.23.5)\n",
      "Requirement already satisfied: pillow>=6.2.0 in c:\\hello world\\lib\\site-packages (from matplotlib) (9.4.0)\n",
      "Requirement already satisfied: contourpy>=1.0.1 in c:\\hello world\\lib\\site-packages (from matplotlib) (1.0.5)\n",
      "Requirement already satisfied: pyparsing>=2.3.1 in c:\\hello world\\lib\\site-packages (from matplotlib) (3.0.9)\n",
      "Requirement already satisfied: kiwisolver>=1.0.1 in c:\\hello world\\lib\\site-packages (from matplotlib) (1.4.4)\n",
      "Requirement already satisfied: cycler>=0.10 in c:\\hello world\\lib\\site-packages (from matplotlib) (0.11.0)\n",
      "Requirement already satisfied: tenacity>=6.2.0 in c:\\hello world\\lib\\site-packages (from plotly) (8.0.1)\n",
      "Requirement already satisfied: branca>=0.6.0 in c:\\hello world\\lib\\site-packages (from folium) (0.7.0)\n",
      "Requirement already satisfied: jinja2>=2.9 in c:\\hello world\\lib\\site-packages (from folium) (3.1.2)\n",
      "Requirement already satisfied: requests in c:\\hello world\\lib\\site-packages (from folium) (2.28.1)\n",
      "Requirement already satisfied: xyzservices in c:\\hello world\\lib\\site-packages (from folium) (2023.10.1)\n",
      "Requirement already satisfied: cligj>=0.5 in c:\\hello world\\lib\\site-packages (from fiona>=1.8.21->geopandas) (0.7.2)\n",
      "Requirement already satisfied: six in c:\\hello world\\lib\\site-packages (from fiona>=1.8.21->geopandas) (1.16.0)\n",
      "Requirement already satisfied: certifi in c:\\hello world\\lib\\site-packages (from fiona>=1.8.21->geopandas) (2022.12.7)\n",
      "Requirement already satisfied: setuptools in c:\\hello world\\lib\\site-packages (from fiona>=1.8.21->geopandas) (65.6.3)\n",
      "Requirement already satisfied: attrs>=19.2.0 in c:\\hello world\\lib\\site-packages (from fiona>=1.8.21->geopandas) (22.1.0)\n",
      "Requirement already satisfied: click-plugins>=1.0 in c:\\hello world\\lib\\site-packages (from fiona>=1.8.21->geopandas) (1.1.1)\n",
      "Requirement already satisfied: click~=8.0 in c:\\hello world\\lib\\site-packages (from fiona>=1.8.21->geopandas) (8.0.4)\n",
      "Requirement already satisfied: MarkupSafe>=2.0 in c:\\hello world\\lib\\site-packages (from jinja2>=2.9->folium) (2.1.1)\n",
      "Requirement already satisfied: pytz>=2020.1 in c:\\hello world\\lib\\site-packages (from pandas>=1.4.0->geopandas) (2022.7)\n",
      "Requirement already satisfied: urllib3<1.27,>=1.21.1 in c:\\hello world\\lib\\site-packages (from requests->folium) (1.26.14)\n",
      "Requirement already satisfied: idna<4,>=2.5 in c:\\hello world\\lib\\site-packages (from requests->folium) (3.4)\n",
      "Requirement already satisfied: charset-normalizer<3,>=2 in c:\\hello world\\lib\\site-packages (from requests->folium) (2.0.4)\n",
      "Requirement already satisfied: colorama in c:\\hello world\\lib\\site-packages (from click~=8.0->fiona>=1.8.21->geopandas) (0.4.6)\n"
     ]
    }
   ],
   "source": [
    "! pip install geopandas matplotlib plotly folium"
   ]
  },
  {
   "cell_type": "code",
   "execution_count": 50,
   "id": "78b8ad15",
   "metadata": {},
   "outputs": [],
   "source": [
    "import geopandas as gpd"
   ]
  },
  {
   "cell_type": "code",
   "execution_count": 51,
   "id": "6b498fbd",
   "metadata": {},
   "outputs": [],
   "source": [
    "geo_df = gpd.GeoDataFrame(\n",
    "    incap, geometry=gpd.points_from_xy(incap.Longitude, incap.Latitude)\n",
    ")"
   ]
  },
  {
   "cell_type": "code",
   "execution_count": 52,
   "id": "4aa092f5",
   "metadata": {},
   "outputs": [],
   "source": [
    "world = gpd.read_file(gpd.datasets.get_path(\"naturalearth_lowres\"))"
   ]
  },
  {
   "cell_type": "code",
   "execution_count": 53,
   "id": "a5b505b0",
   "metadata": {},
   "outputs": [
    {
     "data": {
      "image/png": "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\n",
      "text/plain": [
       "<Figure size 1000x600 with 1 Axes>"
      ]
     },
     "metadata": {},
     "output_type": "display_data"
    }
   ],
   "source": [
    "fig, ax = plt.subplots(figsize=(10, 6))\n",
    "world.plot(ax=ax, color=\"lightgray\")\n",
    "geo_df.plot(ax=ax, markersize=5, color=\"red\", edgecolor=\"black\")\n",
    "plt.title(\"Car Crash Locations\")\n",
    "plt.show()"
   ]
  },
  {
   "cell_type": "code",
   "execution_count": 54,
   "id": "b78218d3",
   "metadata": {},
   "outputs": [],
   "source": [
    "import folium"
   ]
  },
  {
   "cell_type": "code",
   "execution_count": 55,
   "id": "e407e8e4",
   "metadata": {},
   "outputs": [],
   "source": [
    "basemap=folium.Map()"
   ]
  },
  {
   "cell_type": "code",
   "execution_count": 56,
   "id": "97f6fb5f",
   "metadata": {},
   "outputs": [
    {
     "data": {
      "text/html": [
       "<div style=\"width:100%;\"><div style=\"position:relative;width:100%;height:0;padding-bottom:60%;\"><span style=\"color:#565656\">Make this Notebook Trusted to load map: File -> Trust Notebook</span><iframe srcdoc=\"&lt;!DOCTYPE html&gt;\n",
       "&lt;html&gt;\n",
       "&lt;head&gt;\n",
       "    \n",
       "    &lt;meta http-equiv=&quot;content-type&quot; content=&quot;text/html; charset=UTF-8&quot; /&gt;\n",
       "    \n",
       "        &lt;script&gt;\n",
       "            L_NO_TOUCH = false;\n",
       "            L_DISABLE_3D = false;\n",
       "        &lt;/script&gt;\n",
       "    \n",
       "    &lt;style&gt;html, body {width: 100%;height: 100%;margin: 0;padding: 0;}&lt;/style&gt;\n",
       "    &lt;style&gt;#map {position:absolute;top:0;bottom:0;right:0;left:0;}&lt;/style&gt;\n",
       "    &lt;script src=&quot;https://cdn.jsdelivr.net/npm/leaflet@1.9.3/dist/leaflet.js&quot;&gt;&lt;/script&gt;\n",
       "    &lt;script src=&quot;https://code.jquery.com/jquery-3.7.1.min.js&quot;&gt;&lt;/script&gt;\n",
       "    &lt;script src=&quot;https://cdn.jsdelivr.net/npm/bootstrap@5.2.2/dist/js/bootstrap.bundle.min.js&quot;&gt;&lt;/script&gt;\n",
       "    &lt;script src=&quot;https://cdnjs.cloudflare.com/ajax/libs/Leaflet.awesome-markers/2.0.2/leaflet.awesome-markers.js&quot;&gt;&lt;/script&gt;\n",
       "    &lt;link rel=&quot;stylesheet&quot; href=&quot;https://cdn.jsdelivr.net/npm/leaflet@1.9.3/dist/leaflet.css&quot;/&gt;\n",
       "    &lt;link rel=&quot;stylesheet&quot; href=&quot;https://cdn.jsdelivr.net/npm/bootstrap@5.2.2/dist/css/bootstrap.min.css&quot;/&gt;\n",
       "    &lt;link rel=&quot;stylesheet&quot; href=&quot;https://netdna.bootstrapcdn.com/bootstrap/3.0.0/css/bootstrap.min.css&quot;/&gt;\n",
       "    &lt;link rel=&quot;stylesheet&quot; href=&quot;https://cdn.jsdelivr.net/npm/@fortawesome/fontawesome-free@6.2.0/css/all.min.css&quot;/&gt;\n",
       "    &lt;link rel=&quot;stylesheet&quot; href=&quot;https://cdnjs.cloudflare.com/ajax/libs/Leaflet.awesome-markers/2.0.2/leaflet.awesome-markers.css&quot;/&gt;\n",
       "    &lt;link rel=&quot;stylesheet&quot; href=&quot;https://cdn.jsdelivr.net/gh/python-visualization/folium/folium/templates/leaflet.awesome.rotate.min.css&quot;/&gt;\n",
       "    \n",
       "            &lt;meta name=&quot;viewport&quot; content=&quot;width=device-width,\n",
       "                initial-scale=1.0, maximum-scale=1.0, user-scalable=no&quot; /&gt;\n",
       "            &lt;style&gt;\n",
       "                #map_9fb37102a47d1a171127f1ac0e2e1a3a {\n",
       "                    position: relative;\n",
       "                    width: 100.0%;\n",
       "                    height: 100.0%;\n",
       "                    left: 0.0%;\n",
       "                    top: 0.0%;\n",
       "                }\n",
       "                .leaflet-container { font-size: 1rem; }\n",
       "            &lt;/style&gt;\n",
       "        \n",
       "&lt;/head&gt;\n",
       "&lt;body&gt;\n",
       "    \n",
       "    \n",
       "            &lt;div class=&quot;folium-map&quot; id=&quot;map_9fb37102a47d1a171127f1ac0e2e1a3a&quot; &gt;&lt;/div&gt;\n",
       "        \n",
       "&lt;/body&gt;\n",
       "&lt;script&gt;\n",
       "    \n",
       "    \n",
       "            var map_9fb37102a47d1a171127f1ac0e2e1a3a = L.map(\n",
       "                &quot;map_9fb37102a47d1a171127f1ac0e2e1a3a&quot;,\n",
       "                {\n",
       "                    center: [0.0, 0.0],\n",
       "                    crs: L.CRS.EPSG3857,\n",
       "                    zoom: 1,\n",
       "                    zoomControl: true,\n",
       "                    preferCanvas: false,\n",
       "                }\n",
       "            );\n",
       "\n",
       "            \n",
       "\n",
       "        \n",
       "    \n",
       "            var tile_layer_be45eefff38034baeadc7a26f010bfe6 = L.tileLayer(\n",
       "                &quot;https://tile.openstreetmap.org/{z}/{x}/{y}.png&quot;,\n",
       "                {&quot;attribution&quot;: &quot;\\u0026copy; \\u003ca href=\\&quot;https://www.openstreetmap.org/copyright\\&quot;\\u003eOpenStreetMap\\u003c/a\\u003e contributors&quot;, &quot;detectRetina&quot;: false, &quot;maxNativeZoom&quot;: 19, &quot;maxZoom&quot;: 19, &quot;minZoom&quot;: 0, &quot;noWrap&quot;: false, &quot;opacity&quot;: 1, &quot;subdomains&quot;: &quot;abc&quot;, &quot;tms&quot;: false}\n",
       "            );\n",
       "        \n",
       "    \n",
       "            tile_layer_be45eefff38034baeadc7a26f010bfe6.addTo(map_9fb37102a47d1a171127f1ac0e2e1a3a);\n",
       "        \n",
       "&lt;/script&gt;\n",
       "&lt;/html&gt;\" style=\"position:absolute;width:100%;height:100%;left:0;top:0;border:none !important;\" allowfullscreen webkitallowfullscreen mozallowfullscreen></iframe></div></div>"
      ],
      "text/plain": [
       "<folium.folium.Map at 0x286e550bc70>"
      ]
     },
     "execution_count": 56,
     "metadata": {},
     "output_type": "execute_result"
    }
   ],
   "source": [
    "basemap"
   ]
  },
  {
   "cell_type": "code",
   "execution_count": 57,
   "id": "5af25b87",
   "metadata": {},
   "outputs": [],
   "source": [
    "from folium.plugins import HeatMap"
   ]
  },
  {
   "cell_type": "code",
   "execution_count": 58,
   "id": "a7e6f41b",
   "metadata": {},
   "outputs": [
    {
     "name": "stdout",
     "output_type": "stream",
     "text": [
      "Requirement already satisfied: geocoder in c:\\hello world\\lib\\site-packages (1.38.1)\n",
      "Requirement already satisfied: six in c:\\hello world\\lib\\site-packages (from geocoder) (1.16.0)\n",
      "Requirement already satisfied: ratelim in c:\\hello world\\lib\\site-packages (from geocoder) (0.1.6)\n",
      "Requirement already satisfied: requests in c:\\hello world\\lib\\site-packages (from geocoder) (2.28.1)\n",
      "Requirement already satisfied: click in c:\\hello world\\lib\\site-packages (from geocoder) (8.0.4)\n",
      "Requirement already satisfied: future in c:\\hello world\\lib\\site-packages (from geocoder) (0.18.3)\n",
      "Requirement already satisfied: colorama in c:\\hello world\\lib\\site-packages (from click->geocoder) (0.4.6)\n",
      "Requirement already satisfied: decorator in c:\\hello world\\lib\\site-packages (from ratelim->geocoder) (5.1.1)\n",
      "Requirement already satisfied: certifi>=2017.4.17 in c:\\hello world\\lib\\site-packages (from requests->geocoder) (2022.12.7)\n",
      "Requirement already satisfied: charset-normalizer<3,>=2 in c:\\hello world\\lib\\site-packages (from requests->geocoder) (2.0.4)\n",
      "Requirement already satisfied: idna<4,>=2.5 in c:\\hello world\\lib\\site-packages (from requests->geocoder) (3.4)\n",
      "Requirement already satisfied: urllib3<1.27,>=1.21.1 in c:\\hello world\\lib\\site-packages (from requests->geocoder) (1.26.14)\n",
      "Requirement already satisfied: geopy in c:\\hello world\\lib\\site-packages (2.4.1)\n",
      "Requirement already satisfied: geographiclib<3,>=1.52 in c:\\hello world\\lib\\site-packages (from geopy) (2.0)\n"
     ]
    }
   ],
   "source": [
    "!pip install geocoder\n",
    "!pip install geopy"
   ]
  },
  {
   "cell_type": "code",
   "execution_count": 59,
   "id": "d1b5cbee",
   "metadata": {},
   "outputs": [],
   "source": [
    "from geopy.geocoders import Nominatim"
   ]
  },
  {
   "cell_type": "code",
   "execution_count": 60,
   "id": "e47af425",
   "metadata": {},
   "outputs": [],
   "source": [
    "geolocator=Nominatim(user_agent=\"app\",timeout=None)"
   ]
  },
  {
   "cell_type": "code",
   "execution_count": 61,
   "id": "52484c20",
   "metadata": {},
   "outputs": [],
   "source": [
    "from folium.plugins import HeatMap"
   ]
  },
  {
   "cell_type": "code",
   "execution_count": 64,
   "id": "febf8a40",
   "metadata": {},
   "outputs": [],
   "source": [
    "fatal1=fatal.copy()"
   ]
  },
  {
   "cell_type": "code",
   "execution_count": 91,
   "id": "abeab708",
   "metadata": {},
   "outputs": [],
   "source": [
    "fatal1[\"count\"]=\"count\""
   ]
  },
  {
   "cell_type": "code",
   "execution_count": 92,
   "id": "400a0f8f",
   "metadata": {},
   "outputs": [
    {
     "ename": "TypeError",
     "evalue": "ufunc 'isnan' not supported for the input types, and the inputs could not be safely coerced to any supported types according to the casting rule ''safe''",
     "output_type": "error",
     "traceback": [
      "\u001b[1;31m---------------------------------------------------------------------------\u001b[0m",
      "\u001b[1;31mTypeError\u001b[0m                                 Traceback (most recent call last)",
      "Cell \u001b[1;32mIn[92], line 1\u001b[0m\n\u001b[1;32m----> 1\u001b[0m \u001b[43mHeatMap\u001b[49m\u001b[43m(\u001b[49m\u001b[43mfatal1\u001b[49m\u001b[43m[\u001b[49m\u001b[43m[\u001b[49m\u001b[38;5;124;43m'\u001b[39;49m\u001b[38;5;124;43mLatitude\u001b[39;49m\u001b[38;5;124;43m'\u001b[39;49m\u001b[43m,\u001b[49m\u001b[43m \u001b[49m\u001b[38;5;124;43m'\u001b[39;49m\u001b[38;5;124;43mLongitude\u001b[39;49m\u001b[38;5;124;43m'\u001b[39;49m\u001b[43m,\u001b[49m\u001b[38;5;124;43m\"\u001b[39;49m\u001b[38;5;124;43mcount\u001b[39;49m\u001b[38;5;124;43m\"\u001b[39;49m\u001b[43m]\u001b[49m\u001b[43m]\u001b[49m\u001b[43m)\u001b[49m\u001b[38;5;241m.\u001b[39madd_to(basemap)\n",
      "File \u001b[1;32mC:\\hello world\\lib\\site-packages\\folium\\plugins\\heat_map.py:85\u001b[0m, in \u001b[0;36mHeatMap.__init__\u001b[1;34m(self, data, name, min_opacity, max_zoom, radius, blur, gradient, overlay, control, show, **kwargs)\u001b[0m\n\u001b[0;32m     81\u001b[0m data \u001b[38;5;241m=\u001b[39m if_pandas_df_convert_to_numpy(data)\n\u001b[0;32m     82\u001b[0m \u001b[38;5;28mself\u001b[39m\u001b[38;5;241m.\u001b[39mdata \u001b[38;5;241m=\u001b[39m [\n\u001b[0;32m     83\u001b[0m     [\u001b[38;5;241m*\u001b[39mvalidate_location(line[:\u001b[38;5;241m2\u001b[39m]), \u001b[38;5;241m*\u001b[39mline[\u001b[38;5;241m2\u001b[39m:]] \u001b[38;5;28;01mfor\u001b[39;00m line \u001b[38;5;129;01min\u001b[39;00m data  \u001b[38;5;66;03m# noqa: E999\u001b[39;00m\n\u001b[0;32m     84\u001b[0m ]\n\u001b[1;32m---> 85\u001b[0m \u001b[38;5;28;01mif\u001b[39;00m np\u001b[38;5;241m.\u001b[39many(\u001b[43mnp\u001b[49m\u001b[38;5;241;43m.\u001b[39;49m\u001b[43misnan\u001b[49m\u001b[43m(\u001b[49m\u001b[38;5;28;43mself\u001b[39;49m\u001b[38;5;241;43m.\u001b[39;49m\u001b[43mdata\u001b[49m\u001b[43m)\u001b[49m):\n\u001b[0;32m     86\u001b[0m     \u001b[38;5;28;01mraise\u001b[39;00m \u001b[38;5;167;01mValueError\u001b[39;00m(\u001b[38;5;124m\"\u001b[39m\u001b[38;5;124mdata may not contain NaNs.\u001b[39m\u001b[38;5;124m\"\u001b[39m)\n\u001b[0;32m     87\u001b[0m \u001b[38;5;28;01mif\u001b[39;00m kwargs\u001b[38;5;241m.\u001b[39mpop(\u001b[38;5;124m\"\u001b[39m\u001b[38;5;124mmax_val\u001b[39m\u001b[38;5;124m\"\u001b[39m, \u001b[38;5;28;01mNone\u001b[39;00m):\n",
      "\u001b[1;31mTypeError\u001b[0m: ufunc 'isnan' not supported for the input types, and the inputs could not be safely coerced to any supported types according to the casting rule ''safe''"
     ]
    }
   ],
   "source": [
    "HeatMap(fatal1[['Latitude', 'Longitude',\"count\"]]).add_to(basemap)"
   ]
  },
  {
   "cell_type": "code",
   "execution_count": 72,
   "id": "bfe50514",
   "metadata": {},
   "outputs": [
    {
     "data": {
      "text/html": [
       "<div>\n",
       "<style scoped>\n",
       "    .dataframe tbody tr th:only-of-type {\n",
       "        vertical-align: middle;\n",
       "    }\n",
       "\n",
       "    .dataframe tbody tr th {\n",
       "        vertical-align: top;\n",
       "    }\n",
       "\n",
       "    .dataframe thead th {\n",
       "        text-align: right;\n",
       "    }\n",
       "</style>\n",
       "<table border=\"1\" class=\"dataframe\">\n",
       "  <thead>\n",
       "    <tr style=\"text-align: right;\">\n",
       "      <th></th>\n",
       "      <th>Year</th>\n",
       "      <th>Month</th>\n",
       "      <th>Day</th>\n",
       "      <th>Weekend?</th>\n",
       "      <th>Hour</th>\n",
       "      <th>Collision Type</th>\n",
       "      <th>Injury Type</th>\n",
       "      <th>Primary Factor</th>\n",
       "      <th>Reported_Location</th>\n",
       "      <th>Latitude</th>\n",
       "      <th>Longitude</th>\n",
       "      <th>count</th>\n",
       "    </tr>\n",
       "  </thead>\n",
       "  <tbody>\n",
       "    <tr>\n",
       "      <th>530</th>\n",
       "      <td>2015</td>\n",
       "      <td>4</td>\n",
       "      <td>6</td>\n",
       "      <td>Weekday</td>\n",
       "      <td>1600.0</td>\n",
       "      <td>1-Car</td>\n",
       "      <td>Fatal</td>\n",
       "      <td>RAN OFF ROAD RIGHT</td>\n",
       "      <td>DUNCAN &amp; W LEONARD SPRINGS</td>\n",
       "      <td>39.122352</td>\n",
       "      <td>-86.596400</td>\n",
       "      <td>NaN</td>\n",
       "    </tr>\n",
       "    <tr>\n",
       "      <th>531</th>\n",
       "      <td>2015</td>\n",
       "      <td>4</td>\n",
       "      <td>7</td>\n",
       "      <td>Weekend</td>\n",
       "      <td>1500.0</td>\n",
       "      <td>2-Car</td>\n",
       "      <td>Fatal</td>\n",
       "      <td>RAN OFF ROAD RIGHT</td>\n",
       "      <td>KIRBY &amp; W ST RD 48</td>\n",
       "      <td>39.059185</td>\n",
       "      <td>-86.610820</td>\n",
       "      <td>NaN</td>\n",
       "    </tr>\n",
       "    <tr>\n",
       "      <th>649</th>\n",
       "      <td>2015</td>\n",
       "      <td>1</td>\n",
       "      <td>4</td>\n",
       "      <td>Weekday</td>\n",
       "      <td>1700.0</td>\n",
       "      <td>2-Car</td>\n",
       "      <td>Fatal</td>\n",
       "      <td>OTHER (DRIVER) - EXPLAIN IN NARRATIVE</td>\n",
       "      <td>SR 45</td>\n",
       "      <td>39.125312</td>\n",
       "      <td>-86.610496</td>\n",
       "      <td>NaN</td>\n",
       "    </tr>\n",
       "    <tr>\n",
       "      <th>1334</th>\n",
       "      <td>2015</td>\n",
       "      <td>4</td>\n",
       "      <td>1</td>\n",
       "      <td>Weekend</td>\n",
       "      <td>700.0</td>\n",
       "      <td>1-Car</td>\n",
       "      <td>Fatal</td>\n",
       "      <td>RAN OFF ROAD RIGHT</td>\n",
       "      <td>INGRAM &amp; SR37N</td>\n",
       "      <td>39.002892</td>\n",
       "      <td>-86.537282</td>\n",
       "      <td>NaN</td>\n",
       "    </tr>\n",
       "    <tr>\n",
       "      <th>1873</th>\n",
       "      <td>2015</td>\n",
       "      <td>6</td>\n",
       "      <td>3</td>\n",
       "      <td>Weekday</td>\n",
       "      <td>2200.0</td>\n",
       "      <td>Moped/Motorcycle</td>\n",
       "      <td>Fatal</td>\n",
       "      <td>RAN OFF ROAD RIGHT</td>\n",
       "      <td>SR37S &amp; STATE ROAD 45</td>\n",
       "      <td>39.252134</td>\n",
       "      <td>-86.575043</td>\n",
       "      <td>NaN</td>\n",
       "    </tr>\n",
       "    <tr>\n",
       "      <th>...</th>\n",
       "      <td>...</td>\n",
       "      <td>...</td>\n",
       "      <td>...</td>\n",
       "      <td>...</td>\n",
       "      <td>...</td>\n",
       "      <td>...</td>\n",
       "      <td>...</td>\n",
       "      <td>...</td>\n",
       "      <td>...</td>\n",
       "      <td>...</td>\n",
       "      <td>...</td>\n",
       "      <td>...</td>\n",
       "    </tr>\n",
       "    <tr>\n",
       "      <th>53043</th>\n",
       "      <td>2003</td>\n",
       "      <td>6</td>\n",
       "      <td>5</td>\n",
       "      <td>Weekday</td>\n",
       "      <td>700.0</td>\n",
       "      <td>2-Car</td>\n",
       "      <td>Fatal</td>\n",
       "      <td>LEFT OF CENTER</td>\n",
       "      <td>FULLERTON PIKE &amp; SR 37</td>\n",
       "      <td>39.122332</td>\n",
       "      <td>-86.569889</td>\n",
       "      <td>NaN</td>\n",
       "    </tr>\n",
       "    <tr>\n",
       "      <th>53289</th>\n",
       "      <td>2003</td>\n",
       "      <td>4</td>\n",
       "      <td>7</td>\n",
       "      <td>Weekend</td>\n",
       "      <td>0.0</td>\n",
       "      <td>Moped/Motorcycle</td>\n",
       "      <td>Fatal</td>\n",
       "      <td>ALCOHOLIC BEVERAGES</td>\n",
       "      <td>CLEVE BUTCHER &amp; FAIRFAX</td>\n",
       "      <td>39.060039</td>\n",
       "      <td>-86.498433</td>\n",
       "      <td>NaN</td>\n",
       "    </tr>\n",
       "    <tr>\n",
       "      <th>53665</th>\n",
       "      <td>2003</td>\n",
       "      <td>10</td>\n",
       "      <td>6</td>\n",
       "      <td>Weekday</td>\n",
       "      <td>400.0</td>\n",
       "      <td>1-Car</td>\n",
       "      <td>Fatal</td>\n",
       "      <td>RAN OFF ROAD LEFT</td>\n",
       "      <td>CEDAR BLUFF &amp; SR37</td>\n",
       "      <td>0.000000</td>\n",
       "      <td>0.000000</td>\n",
       "      <td>NaN</td>\n",
       "    </tr>\n",
       "    <tr>\n",
       "      <th>53681</th>\n",
       "      <td>2003</td>\n",
       "      <td>5</td>\n",
       "      <td>4</td>\n",
       "      <td>Weekday</td>\n",
       "      <td>1700.0</td>\n",
       "      <td>2-Car</td>\n",
       "      <td>Fatal</td>\n",
       "      <td>LEFT OF CENTER</td>\n",
       "      <td>BURGOON CHAPEL &amp; SR446</td>\n",
       "      <td>0.000000</td>\n",
       "      <td>0.000000</td>\n",
       "      <td>NaN</td>\n",
       "    </tr>\n",
       "    <tr>\n",
       "      <th>53685</th>\n",
       "      <td>2003</td>\n",
       "      <td>7</td>\n",
       "      <td>5</td>\n",
       "      <td>Weekday</td>\n",
       "      <td>500.0</td>\n",
       "      <td>1-Car</td>\n",
       "      <td>Fatal</td>\n",
       "      <td>PEDESTRIAN ACTION</td>\n",
       "      <td>RHORER RED &amp; SR37</td>\n",
       "      <td>0.000000</td>\n",
       "      <td>0.000000</td>\n",
       "      <td>NaN</td>\n",
       "    </tr>\n",
       "  </tbody>\n",
       "</table>\n",
       "<p>115 rows × 12 columns</p>\n",
       "</div>"
      ],
      "text/plain": [
       "       Year  Month  Day Weekend?    Hour    Collision Type Injury Type  \\\n",
       "530    2015      4    6  Weekday  1600.0             1-Car       Fatal   \n",
       "531    2015      4    7  Weekend  1500.0             2-Car       Fatal   \n",
       "649    2015      1    4  Weekday  1700.0             2-Car       Fatal   \n",
       "1334   2015      4    1  Weekend   700.0             1-Car       Fatal   \n",
       "1873   2015      6    3  Weekday  2200.0  Moped/Motorcycle       Fatal   \n",
       "...     ...    ...  ...      ...     ...               ...         ...   \n",
       "53043  2003      6    5  Weekday   700.0             2-Car       Fatal   \n",
       "53289  2003      4    7  Weekend     0.0  Moped/Motorcycle       Fatal   \n",
       "53665  2003     10    6  Weekday   400.0             1-Car       Fatal   \n",
       "53681  2003      5    4  Weekday  1700.0             2-Car       Fatal   \n",
       "53685  2003      7    5  Weekday   500.0             1-Car       Fatal   \n",
       "\n",
       "                              Primary Factor           Reported_Location  \\\n",
       "530                       RAN OFF ROAD RIGHT  DUNCAN & W LEONARD SPRINGS   \n",
       "531                       RAN OFF ROAD RIGHT          KIRBY & W ST RD 48   \n",
       "649    OTHER (DRIVER) - EXPLAIN IN NARRATIVE                       SR 45   \n",
       "1334                      RAN OFF ROAD RIGHT              INGRAM & SR37N   \n",
       "1873                      RAN OFF ROAD RIGHT       SR37S & STATE ROAD 45   \n",
       "...                                      ...                         ...   \n",
       "53043                         LEFT OF CENTER      FULLERTON PIKE & SR 37   \n",
       "53289                    ALCOHOLIC BEVERAGES     CLEVE BUTCHER & FAIRFAX   \n",
       "53665                      RAN OFF ROAD LEFT          CEDAR BLUFF & SR37   \n",
       "53681                         LEFT OF CENTER      BURGOON CHAPEL & SR446   \n",
       "53685                      PEDESTRIAN ACTION           RHORER RED & SR37   \n",
       "\n",
       "        Latitude  Longitude  count  \n",
       "530    39.122352 -86.596400    NaN  \n",
       "531    39.059185 -86.610820    NaN  \n",
       "649    39.125312 -86.610496    NaN  \n",
       "1334   39.002892 -86.537282    NaN  \n",
       "1873   39.252134 -86.575043    NaN  \n",
       "...          ...        ...    ...  \n",
       "53043  39.122332 -86.569889    NaN  \n",
       "53289  39.060039 -86.498433    NaN  \n",
       "53665   0.000000   0.000000    NaN  \n",
       "53681   0.000000   0.000000    NaN  \n",
       "53685   0.000000   0.000000    NaN  \n",
       "\n",
       "[115 rows x 12 columns]"
      ]
     },
     "execution_count": 72,
     "metadata": {},
     "output_type": "execute_result"
    }
   ],
   "source": [
    "fatal1"
   ]
  },
  {
   "cell_type": "code",
   "execution_count": 89,
   "id": "ae0973f6",
   "metadata": {},
   "outputs": [],
   "source": [
    "count=[]\n",
    "\n",
    "count.append(fatal[\"Reported_Location\"].value_counts())"
   ]
  },
  {
   "cell_type": "code",
   "execution_count": 90,
   "id": "8835f673",
   "metadata": {},
   "outputs": [
    {
     "data": {
      "text/plain": [
       "[FLATWOODS & SR46W               3\n",
       " CLEVE BUTCHER & FAIRFAX RD      2\n",
       " SR37N & WAYPORT                 2\n",
       " SR46 & TEMPERANCE               1\n",
       " 3RD ST & HAWTHORNE              1\n",
       "                                ..\n",
       " FAIRFAX RD & SCHACT             1\n",
       " SR37S & ZIKES                   1\n",
       " SOUTH STATE ROAD 446 RD         1\n",
       " BRUMMETTS CREEK ROAD & SR46E    1\n",
       " RHORER RED & SR37               1\n",
       " Name: Reported_Location, Length: 111, dtype: int64]"
      ]
     },
     "execution_count": 90,
     "metadata": {},
     "output_type": "execute_result"
    }
   ],
   "source": [
    "count"
   ]
  },
  {
   "cell_type": "code",
   "execution_count": 99,
   "id": "3c5f5e9e",
   "metadata": {},
   "outputs": [],
   "source": [
    "weekend=car[car[\"Weekend?\"]==\"Weekend\"]\n",
    "weekend=weekend.reset_index()\n"
   ]
  },
  {
   "cell_type": "code",
   "execution_count": 103,
   "id": "3dd742c0",
   "metadata": {},
   "outputs": [],
   "source": [
    "weekend.drop(columns=\"index\")\n",
    "weekend=weekend.drop(columns=\"index\")"
   ]
  },
  {
   "cell_type": "code",
   "execution_count": 104,
   "id": "031572ea",
   "metadata": {},
   "outputs": [
    {
     "data": {
      "text/html": [
       "<div>\n",
       "<style scoped>\n",
       "    .dataframe tbody tr th:only-of-type {\n",
       "        vertical-align: middle;\n",
       "    }\n",
       "\n",
       "    .dataframe tbody tr th {\n",
       "        vertical-align: top;\n",
       "    }\n",
       "\n",
       "    .dataframe thead th {\n",
       "        text-align: right;\n",
       "    }\n",
       "</style>\n",
       "<table border=\"1\" class=\"dataframe\">\n",
       "  <thead>\n",
       "    <tr style=\"text-align: right;\">\n",
       "      <th></th>\n",
       "      <th>Year</th>\n",
       "      <th>Month</th>\n",
       "      <th>Day</th>\n",
       "      <th>Weekend?</th>\n",
       "      <th>Hour</th>\n",
       "      <th>Collision Type</th>\n",
       "      <th>Injury Type</th>\n",
       "      <th>Primary Factor</th>\n",
       "      <th>Reported_Location</th>\n",
       "      <th>Latitude</th>\n",
       "      <th>Longitude</th>\n",
       "    </tr>\n",
       "  </thead>\n",
       "  <tbody>\n",
       "    <tr>\n",
       "      <th>0</th>\n",
       "      <td>2015</td>\n",
       "      <td>1</td>\n",
       "      <td>6</td>\n",
       "      <td>Weekend</td>\n",
       "      <td>2300.0</td>\n",
       "      <td>2-Car</td>\n",
       "      <td>Non-incapacitating</td>\n",
       "      <td>DISREGARD SIGNAL/REG SIGN</td>\n",
       "      <td>BASSWOOD &amp; BLOOMFIELD</td>\n",
       "      <td>39.149780</td>\n",
       "      <td>-86.568890</td>\n",
       "    </tr>\n",
       "    <tr>\n",
       "      <th>1</th>\n",
       "      <td>2015</td>\n",
       "      <td>1</td>\n",
       "      <td>7</td>\n",
       "      <td>Weekend</td>\n",
       "      <td>900.0</td>\n",
       "      <td>2-Car</td>\n",
       "      <td>Non-incapacitating</td>\n",
       "      <td>FAILURE TO YIELD RIGHT OF WAY</td>\n",
       "      <td>GATES &amp; JACOBS</td>\n",
       "      <td>39.165655</td>\n",
       "      <td>-86.575956</td>\n",
       "    </tr>\n",
       "    <tr>\n",
       "      <th>2</th>\n",
       "      <td>2015</td>\n",
       "      <td>1</td>\n",
       "      <td>7</td>\n",
       "      <td>Weekend</td>\n",
       "      <td>1100.0</td>\n",
       "      <td>2-Car</td>\n",
       "      <td>No injury/unknown</td>\n",
       "      <td>FAILURE TO YIELD RIGHT OF WAY</td>\n",
       "      <td>W 3RD</td>\n",
       "      <td>39.164848</td>\n",
       "      <td>-86.579625</td>\n",
       "    </tr>\n",
       "    <tr>\n",
       "      <th>3</th>\n",
       "      <td>2015</td>\n",
       "      <td>1</td>\n",
       "      <td>7</td>\n",
       "      <td>Weekend</td>\n",
       "      <td>1400.0</td>\n",
       "      <td>2-Car</td>\n",
       "      <td>No injury/unknown</td>\n",
       "      <td>FOLLOWING TOO CLOSELY</td>\n",
       "      <td>LIBERTY &amp; W 3RD</td>\n",
       "      <td>39.164610</td>\n",
       "      <td>-86.579130</td>\n",
       "    </tr>\n",
       "    <tr>\n",
       "      <th>4</th>\n",
       "      <td>2015</td>\n",
       "      <td>1</td>\n",
       "      <td>7</td>\n",
       "      <td>Weekend</td>\n",
       "      <td>1600.0</td>\n",
       "      <td>1-Car</td>\n",
       "      <td>No injury/unknown</td>\n",
       "      <td>RAN OFF ROAD RIGHT</td>\n",
       "      <td>PATTERSON &amp; W 3RD</td>\n",
       "      <td>39.163440</td>\n",
       "      <td>-86.551280</td>\n",
       "    </tr>\n",
       "    <tr>\n",
       "      <th>...</th>\n",
       "      <td>...</td>\n",
       "      <td>...</td>\n",
       "      <td>...</td>\n",
       "      <td>...</td>\n",
       "      <td>...</td>\n",
       "      <td>...</td>\n",
       "      <td>...</td>\n",
       "      <td>...</td>\n",
       "      <td>...</td>\n",
       "      <td>...</td>\n",
       "      <td>...</td>\n",
       "    </tr>\n",
       "    <tr>\n",
       "      <th>13234</th>\n",
       "      <td>2003</td>\n",
       "      <td>7</td>\n",
       "      <td>1</td>\n",
       "      <td>Weekend</td>\n",
       "      <td>300.0</td>\n",
       "      <td>2-Car</td>\n",
       "      <td>No injury/unknown</td>\n",
       "      <td>OTHER (DRIVER) - EXPLAIN IN NARRATIVE</td>\n",
       "      <td>TIMBER RIDGE APARTMENTS</td>\n",
       "      <td>0.000000</td>\n",
       "      <td>0.000000</td>\n",
       "    </tr>\n",
       "    <tr>\n",
       "      <th>13235</th>\n",
       "      <td>2003</td>\n",
       "      <td>8</td>\n",
       "      <td>7</td>\n",
       "      <td>Weekend</td>\n",
       "      <td>2100.0</td>\n",
       "      <td>2-Car</td>\n",
       "      <td>No injury/unknown</td>\n",
       "      <td>IMPROPER LANE USAGE</td>\n",
       "      <td>BRIARGATE &amp; SR46</td>\n",
       "      <td>0.000000</td>\n",
       "      <td>0.000000</td>\n",
       "    </tr>\n",
       "    <tr>\n",
       "      <th>13236</th>\n",
       "      <td>2003</td>\n",
       "      <td>9</td>\n",
       "      <td>1</td>\n",
       "      <td>Weekend</td>\n",
       "      <td>1800.0</td>\n",
       "      <td>2-Car</td>\n",
       "      <td>No injury/unknown</td>\n",
       "      <td>OTHER (DRIVER) - EXPLAIN IN NARRATIVE</td>\n",
       "      <td>SR45SR46 &amp; WALNUT</td>\n",
       "      <td>0.000000</td>\n",
       "      <td>0.000000</td>\n",
       "    </tr>\n",
       "    <tr>\n",
       "      <th>13237</th>\n",
       "      <td>2003</td>\n",
       "      <td>12</td>\n",
       "      <td>1</td>\n",
       "      <td>Weekend</td>\n",
       "      <td>700.0</td>\n",
       "      <td>2-Car</td>\n",
       "      <td>No injury/unknown</td>\n",
       "      <td>UNSAFE BACKING</td>\n",
       "      <td>NINETH &amp; NORTH</td>\n",
       "      <td>0.000000</td>\n",
       "      <td>0.000000</td>\n",
       "    </tr>\n",
       "    <tr>\n",
       "      <th>13238</th>\n",
       "      <td>2003</td>\n",
       "      <td>12</td>\n",
       "      <td>7</td>\n",
       "      <td>Weekend</td>\n",
       "      <td>1700.0</td>\n",
       "      <td>2-Car</td>\n",
       "      <td>Non-incapacitating</td>\n",
       "      <td>OTHER (DRIVER) - EXPLAIN IN NARRATIVE</td>\n",
       "      <td>MONROW &amp; THIRD ST</td>\n",
       "      <td>0.000000</td>\n",
       "      <td>0.000000</td>\n",
       "    </tr>\n",
       "  </tbody>\n",
       "</table>\n",
       "<p>13239 rows × 11 columns</p>\n",
       "</div>"
      ],
      "text/plain": [
       "       Year  Month  Day Weekend?    Hour Collision Type         Injury Type  \\\n",
       "0      2015      1    6  Weekend  2300.0          2-Car  Non-incapacitating   \n",
       "1      2015      1    7  Weekend   900.0          2-Car  Non-incapacitating   \n",
       "2      2015      1    7  Weekend  1100.0          2-Car   No injury/unknown   \n",
       "3      2015      1    7  Weekend  1400.0          2-Car   No injury/unknown   \n",
       "4      2015      1    7  Weekend  1600.0          1-Car   No injury/unknown   \n",
       "...     ...    ...  ...      ...     ...            ...                 ...   \n",
       "13234  2003      7    1  Weekend   300.0          2-Car   No injury/unknown   \n",
       "13235  2003      8    7  Weekend  2100.0          2-Car   No injury/unknown   \n",
       "13236  2003      9    1  Weekend  1800.0          2-Car   No injury/unknown   \n",
       "13237  2003     12    1  Weekend   700.0          2-Car   No injury/unknown   \n",
       "13238  2003     12    7  Weekend  1700.0          2-Car  Non-incapacitating   \n",
       "\n",
       "                              Primary Factor        Reported_Location  \\\n",
       "0                  DISREGARD SIGNAL/REG SIGN    BASSWOOD & BLOOMFIELD   \n",
       "1              FAILURE TO YIELD RIGHT OF WAY           GATES & JACOBS   \n",
       "2              FAILURE TO YIELD RIGHT OF WAY                    W 3RD   \n",
       "3                      FOLLOWING TOO CLOSELY          LIBERTY & W 3RD   \n",
       "4                         RAN OFF ROAD RIGHT        PATTERSON & W 3RD   \n",
       "...                                      ...                      ...   \n",
       "13234  OTHER (DRIVER) - EXPLAIN IN NARRATIVE  TIMBER RIDGE APARTMENTS   \n",
       "13235                    IMPROPER LANE USAGE         BRIARGATE & SR46   \n",
       "13236  OTHER (DRIVER) - EXPLAIN IN NARRATIVE        SR45SR46 & WALNUT   \n",
       "13237                         UNSAFE BACKING           NINETH & NORTH   \n",
       "13238  OTHER (DRIVER) - EXPLAIN IN NARRATIVE        MONROW & THIRD ST   \n",
       "\n",
       "        Latitude  Longitude  \n",
       "0      39.149780 -86.568890  \n",
       "1      39.165655 -86.575956  \n",
       "2      39.164848 -86.579625  \n",
       "3      39.164610 -86.579130  \n",
       "4      39.163440 -86.551280  \n",
       "...          ...        ...  \n",
       "13234   0.000000   0.000000  \n",
       "13235   0.000000   0.000000  \n",
       "13236   0.000000   0.000000  \n",
       "13237   0.000000   0.000000  \n",
       "13238   0.000000   0.000000  \n",
       "\n",
       "[13239 rows x 11 columns]"
      ]
     },
     "execution_count": 104,
     "metadata": {},
     "output_type": "execute_result"
    }
   ],
   "source": [
    "weekend"
   ]
  },
  {
   "cell_type": "code",
   "execution_count": 106,
   "id": "fb5083ab",
   "metadata": {},
   "outputs": [
    {
     "data": {
      "text/plain": [
       "FAILURE TO YIELD RIGHT OF WAY               2702\n",
       "OTHER (DRIVER) - EXPLAIN IN NARRATIVE       1504\n",
       "FOLLOWING TOO CLOSELY                       1381\n",
       "UNSAFE BACKING                              1261\n",
       "RAN OFF ROAD RIGHT                           985\n",
       "DISREGARD SIGNAL/REG SIGN                    564\n",
       "SPEED TOO FAST FOR WEATHER CONDITIONS        514\n",
       "IMPROPER TURNING                             512\n",
       "ANIMAL/OBJECT IN ROADWAY                     482\n",
       "UNSAFE SPEED                                 394\n",
       "ROADWAY SURFACE CONDITION                    390\n",
       "DRIVER DISTRACTED - EXPLAIN IN NARRATIVE     358\n",
       "ALCOHOLIC BEVERAGES                          339\n",
       "LEFT OF CENTER                               298\n",
       "IMPROPER LANE USAGE                          266\n",
       "UNSAFE LANE MOVEMENT                         205\n",
       "OVERCORRECTING/OVERSTEERING                  177\n",
       "OTHER (VEHICLE) - EXPLAIN IN NARRATIVE       110\n",
       "DRIVER ASLEEP OR FATIGUED                     97\n",
       "OTHER (ENVIRONMENTAL) - EXPLAIN IN NARR       92\n",
       "IMPROPER PASSING                              92\n",
       "BRAKE FAILURE OR DEFECTIVE                    89\n",
       "PEDESTRIAN ACTION                             82\n",
       "CELL PHONE USAGE                              43\n",
       "VIEW OBSTRUCTED                               39\n",
       "DRIVER ILLNESS                                33\n",
       "WRONG WAY ON ONE WAY                          31\n",
       "NONE (DRIVER)                                 29\n",
       "RAN OFF ROAD LEFT                             25\n",
       "TIRE FAILURE OR DEFECTIVE                     20\n",
       "ACCELERATOR FAILURE OR DEFECTIVE              14\n",
       "STEERING FAILURE                              14\n",
       "PRESCRIPTION DRUGS                            12\n",
       "INSECURE/LEAKY LOAD                            9\n",
       "OVERSIZE/OVERWEIGHT LOAD                       8\n",
       "PASSENGER DISTRACTION                          8\n",
       "ILLEGAL DRUGS                                  8\n",
       "GLARE                                          8\n",
       "OBSTRUCTION NOT MARKED                         7\n",
       "ENGINE FAILURE OR DEFECTIVE                    6\n",
       "HEADLIGHT DEFECTIVE OR NOT ON                  6\n",
       "OTHER TELEMATICS IN USE                        4\n",
       "NONE (VEHICLE)                                 4\n",
       "JACKKNIFING                                    4\n",
       "TOW HITCH FAILURE                              3\n",
       "TRAFFIC CONTROL INOPERATIVE/MISSING/OBSC       2\n",
       "HOLES/RUTS IN SURFACE                          2\n",
       "NONE (ENVIRONMENTAL)                           2\n",
       "SEVERE CROSSWINDS                              1\n",
       "SHOULDER DEFECTIVE                             1\n",
       "VIOLATION OF LICENSE RESTRICTION               1\n",
       "OTHER LIGHTS DEFECTIVE                         1\n",
       "Name: Primary Factor, dtype: int64"
      ]
     },
     "execution_count": 106,
     "metadata": {},
     "output_type": "execute_result"
    }
   ],
   "source": [
    "weekend[\"Primary Factor\"].value_counts()"
   ]
  },
  {
   "cell_type": "code",
   "execution_count": 107,
   "id": "7fc5f1ed",
   "metadata": {},
   "outputs": [],
   "source": [
    "month_grp=car.groupby(\"Month\")"
   ]
  },
  {
   "cell_type": "code",
   "execution_count": 111,
   "id": "a6716520",
   "metadata": {},
   "outputs": [
    {
     "data": {
      "text/plain": [
       "FAILURE TO YIELD RIGHT OF WAY               1334\n",
       "FOLLOWING TOO CLOSELY                        851\n",
       "OTHER (DRIVER) - EXPLAIN IN NARRATIVE        566\n",
       "UNSAFE BACKING                               508\n",
       "RAN OFF ROAD RIGHT                           263\n",
       "DISREGARD SIGNAL/REG SIGN                    228\n",
       "ANIMAL/OBJECT IN ROADWAY                     217\n",
       "SPEED TOO FAST FOR WEATHER CONDITIONS        211\n",
       "IMPROPER TURNING                             209\n",
       "UNSAFE SPEED                                 169\n",
       "DRIVER DISTRACTED - EXPLAIN IN NARRATIVE     166\n",
       "IMPROPER LANE USAGE                          116\n",
       "LEFT OF CENTER                               114\n",
       "UNSAFE LANE MOVEMENT                          70\n",
       "ROADWAY SURFACE CONDITION                     70\n",
       "OVERCORRECTING/OVERSTEERING                   67\n",
       "ALCOHOLIC BEVERAGES                           57\n",
       "IMPROPER PASSING                              45\n",
       "PEDESTRIAN ACTION                             38\n",
       "BRAKE FAILURE OR DEFECTIVE                    36\n",
       "OTHER (VEHICLE) - EXPLAIN IN NARRATIVE        34\n",
       "OTHER (ENVIRONMENTAL) - EXPLAIN IN NARR       23\n",
       "DRIVER ASLEEP OR FATIGUED                     22\n",
       "VIEW OBSTRUCTED                               21\n",
       "CELL PHONE USAGE                              20\n",
       "NONE (DRIVER)                                 17\n",
       "DRIVER ILLNESS                                15\n",
       "TIRE FAILURE OR DEFECTIVE                     13\n",
       "WRONG WAY ON ONE WAY                          11\n",
       "ACCELERATOR FAILURE OR DEFECTIVE               8\n",
       "GLARE                                          7\n",
       "PRESCRIPTION DRUGS                             6\n",
       "ILLEGAL DRUGS                                  5\n",
       "PASSENGER DISTRACTION                          4\n",
       "OBSTRUCTION NOT MARKED                         4\n",
       "HEADLIGHT DEFECTIVE OR NOT ON                  4\n",
       "OTHER TELEMATICS IN USE                        3\n",
       "TRAFFIC CONTROL INOPERATIVE/MISSING/OBSC       3\n",
       "INSECURE/LEAKY LOAD                            3\n",
       "RAN OFF ROAD LEFT                              3\n",
       "OVERSIZE/OVERWEIGHT LOAD                       2\n",
       "HOLES/RUTS IN SURFACE                          2\n",
       "NONE (VEHICLE)                                 2\n",
       "NONE (ENVIRONMENTAL)                           2\n",
       "VIOLATION OF LICENSE RESTRICTION               1\n",
       "STEERING FAILURE                               1\n",
       "Name: Primary Factor, dtype: int64"
      ]
     },
     "execution_count": 111,
     "metadata": {},
     "output_type": "execute_result"
    }
   ],
   "source": [
    "month_grp.get_group(10)[\"Primary Factor\"].value_counts()"
   ]
  },
  {
   "cell_type": "markdown",
   "id": "1d0e6b3e",
   "metadata": {},
   "source": [
    "# Conclusion"
   ]
  },
  {
   "cell_type": "markdown",
   "id": "b695d265",
   "metadata": {},
   "source": [
    "- weekdays time after 3pm is more prone to accidents as the reason may be the traffic rush after office hours ,school hours etc,there are chances for the driver to be fatigue and the short distancing also\n",
    "- weekends also there are accidents but comparitively less ... weekend accidents mainly will be because of teenage drivers and the main time with more accidents is 12pm .... after long sleep people will be starting their day by this time increasing traffic rush ... the main reasons are failure to yield right of way , other driver , improper backing etc\n",
    "- october was the month with more number of accidents the reasons might be more holidays , festivals like halloween etc\n",
    "- fatal injuries are comparitively less but incapacitating are there for 20% , more are with very less or no injuries\n"
   ]
  },
  {
   "cell_type": "markdown",
   "id": "50dcfbab",
   "metadata": {},
   "source": [
    "### inference"
   ]
  },
  {
   "cell_type": "markdown",
   "id": "51c808e7",
   "metadata": {},
   "source": [
    "- from the above conclusions the time of accidents is at 3pm , so more traffic safety rules can be implied during that time\n",
    "- october is the month with more number of accidents every year which tells us the festival season , holiday and change of weather from summer to fall increases the chances ... the roads can be checked for slippery skid and all during these month to avoid it\n",
    "- failure to yield the right way also causes the main accidents reason, if a sign for turning can be kept a mile back people can check and be informative so that they can be aware"
   ]
  },
  {
   "cell_type": "code",
   "execution_count": null,
   "id": "545ceb9f",
   "metadata": {},
   "outputs": [],
   "source": []
  }
 ],
 "metadata": {
  "kernelspec": {
   "display_name": "Python 3 